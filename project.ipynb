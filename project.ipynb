{
  "cells": [
    {
      "cell_type": "markdown",
      "metadata": {
        "id": "p6KAbfVFlXlC"
      },
      "source": [
        "# Recommendation Systems Project\n",
        "\n",
        "Mate Balogh\n",
        "\n",
        "E28H7B"
      ]
    },
    {
      "cell_type": "markdown",
      "metadata": {
        "id": "e_RFIHx-ljrA"
      },
      "source": [
        "**Item** recommendations for **visitors** in an online store based on *implicit feedback* to provide better user experience and to boost sales."
      ]
    },
    {
      "cell_type": "markdown",
      "metadata": {
        "id": "0-yptG7KrNd1"
      },
      "source": [
        "## Setup"
      ]
    },
    {
      "cell_type": "code",
      "execution_count": null,
      "metadata": {
        "id": "v0GrNi7qLYl8"
      },
      "outputs": [],
      "source": [
        "!pip install cornac adjustText --quiet"
      ]
    },
    {
      "cell_type": "code",
      "execution_count": null,
      "metadata": {
        "id": "lttl-ZedO5VK"
      },
      "outputs": [],
      "source": [
        "import kagglehub\n",
        "import pandas as pd\n",
        "import numpy as np\n",
        "import matplotlib.pyplot as plt\n",
        "import cornac\n",
        "import itertools\n",
        "import seaborn as sns\n",
        "\n",
        "from cornac.eval_methods import RatioSplit\n",
        "from cornac.metrics import Precision, Recall\n",
        "from cornac.models import WMF\n",
        "from adjustText import adjust_text\n",
        "from sklearn.metrics.pairwise import cosine_similarity"
      ]
    },
    {
      "cell_type": "code",
      "execution_count": null,
      "metadata": {
        "id": "Nki51mjxsfKt"
      },
      "outputs": [],
      "source": [
        "RAND = 10"
      ]
    },
    {
      "cell_type": "code",
      "execution_count": null,
      "metadata": {
        "id": "yf6ORHzesTIO"
      },
      "outputs": [],
      "source": [
        "#@title ### Helpers\n",
        "def get_idx(ids, collection):\n",
        "    return list(map(lambda x: collection.index.get_loc(x), ids))"
      ]
    },
    {
      "cell_type": "code",
      "execution_count": null,
      "metadata": {
        "id": "_N6kLVGesunf"
      },
      "outputs": [],
      "source": [
        "#@title ### Download dataset\n",
        "path = kagglehub.dataset_download(\"retailrocket/ecommerce-dataset\")\n",
        "print(\"Path to dataset files:\", path)"
      ]
    },
    {
      "cell_type": "markdown",
      "metadata": {
        "id": "1z_SVpREs44y"
      },
      "source": [
        "## Dataset"
      ]
    },
    {
      "cell_type": "code",
      "execution_count": null,
      "metadata": {
        "id": "xZKwRy6es5x0"
      },
      "outputs": [],
      "source": [
        "events = pd.read_csv(path + \"/events.csv\",\n",
        "                     dtype={'timestamp': int, 'visitorid': int, 'itemid': int, 'event': 'string', 'transactionid': object})"
      ]
    },
    {
      "cell_type": "markdown",
      "metadata": {
        "id": "AmY1gFjOPiDo"
      },
      "source": [
        "## Exploratory Data Analysis"
      ]
    },
    {
      "cell_type": "code",
      "execution_count": null,
      "metadata": {
        "id": "8jix_5J4u1D6"
      },
      "outputs": [],
      "source": [
        "events.shape"
      ]
    },
    {
      "cell_type": "code",
      "execution_count": null,
      "metadata": {
        "id": "nmYzk7n5PZda"
      },
      "outputs": [],
      "source": [
        "events.columns.to_list()"
      ]
    },
    {
      "cell_type": "code",
      "execution_count": null,
      "metadata": {
        "id": "iynbKrecPs9A"
      },
      "outputs": [],
      "source": [
        "events.head(n=3)"
      ]
    },
    {
      "cell_type": "code",
      "execution_count": null,
      "metadata": {
        "id": "8oc76vvOPwr0"
      },
      "outputs": [],
      "source": [
        "events.isna().any()"
      ]
    },
    {
      "cell_type": "code",
      "execution_count": null,
      "metadata": {
        "id": "tRY7qgwuP05S"
      },
      "outputs": [],
      "source": [
        "events.describe()"
      ]
    },
    {
      "cell_type": "code",
      "execution_count": null,
      "metadata": {
        "id": "kXoeXU9lP9Ib"
      },
      "outputs": [],
      "source": [
        "print(\"# of visitors in 'events':\", events['visitorid'].count(), \"among which\", events['visitorid'].nunique(), \"is unique.\")\n",
        "print(\"# of items in 'events':\", events['itemid'].count(), \"among which\", events['itemid'].nunique(), \"is unique.\")\n",
        "print(\"# of event in 'events':\", events['event'].count(), \"among which\", events['event'].nunique(), \"is unique.\")\n",
        "print(\"# of transactions in 'events':\", events['transactionid'].count(), \"among which\", events['transactionid'].nunique(), \"is unique.\")"
      ]
    },
    {
      "cell_type": "code",
      "execution_count": null,
      "metadata": {
        "id": "DAlFtgCEQpA9"
      },
      "outputs": [],
      "source": [
        "events.sort_values(by=['transactionid'], ascending=False)"
      ]
    },
    {
      "cell_type": "code",
      "execution_count": null,
      "metadata": {
        "cellView": "form",
        "id": "DiKDpNfzvLqb"
      },
      "outputs": [],
      "source": [
        "#@title #### Event frequency distribution\n",
        "\n",
        "fig, axes = plt.subplots(1, 2, figsize=(10, 5))\n",
        "\n",
        "events_freqdist = events.groupby('event')['event'].count()\n",
        "\n",
        "def plot_on_ax(_ax):\n",
        "    fd = _ax.bar(events_freqdist.index, events_freqdist.values, color=\"darkkhaki\")\n",
        "    _ax.bar_label(fd, fmt=\"{:,.0f}\")\n",
        "\n",
        "ax = axes[0]\n",
        "plot_on_ax(ax)\n",
        "ax.set_title(\"Normal scale\")\n",
        "\n",
        "ax = axes[1]\n",
        "plot_on_ax(ax)\n",
        "ax.set_yscale('log')\n",
        "ax.set_title(\"Log scale\")\n",
        "\n",
        "for ax in axes:\n",
        "    ax.set_ylabel('Frequency')\n",
        "    ax.margins(.15)\n",
        "\n",
        "plt.suptitle('Event distribution')\n",
        "plt.tight_layout()\n",
        "plt.show()\n",
        "\n",
        "del plot_on_ax"
      ]
    },
    {
      "cell_type": "markdown",
      "metadata": {
        "id": "bi22lMFG9EpI"
      },
      "source": [
        "### Transaction events"
      ]
    },
    {
      "cell_type": "code",
      "execution_count": null,
      "metadata": {
        "id": "mh8ceRCj9HrI"
      },
      "outputs": [],
      "source": [
        "condTransaction = events['event'] == 'transaction'\n",
        "transaction_events = events[condTransaction]\n",
        "\n",
        "print(\"`transaction_events` shape:\", transaction_events.shape)\n",
        "assert transaction_events['transactionid'].notna().all()"
      ]
    },
    {
      "cell_type": "code",
      "execution_count": null,
      "metadata": {
        "id": "sucEIeC6yXdJ"
      },
      "outputs": [],
      "source": [
        "plt.hist(transaction_events.groupby(by='itemid')['transactionid'].count().reset_index(drop=True),\n",
        "         bins=40, edgecolor=\"white\", color=\"olive\")\n",
        "\n",
        "plt.title(\"Item-wise Purchase Histogram (log scale)\")\n",
        "plt.xlabel(\"Number of Purchase\")\n",
        "plt.ylabel(\"Frequency\")\n",
        "plt.yscale('log')\n",
        "plt.show()"
      ]
    },
    {
      "cell_type": "code",
      "execution_count": null,
      "metadata": {
        "id": "hMrrVkAgWjFn"
      },
      "outputs": [],
      "source": [
        "plt.hist(transaction_events.groupby(by=['visitorid', 'itemid'])['transactionid'].count().reset_index(drop=True),\n",
        "         bins=40, edgecolor=\"white\", color=\"olive\")\n",
        "\n",
        "plt.title(\"User-item-wise Purchase Histogram (log scale)\")\n",
        "plt.xlabel(\"Number of Purchase\")\n",
        "plt.ylabel(\"Frequency\")\n",
        "plt.yscale('log')\n",
        "plt.show()"
      ]
    },
    {
      "cell_type": "markdown",
      "metadata": {
        "id": "rEujUr6EwNL7"
      },
      "source": [
        "# Implementations"
      ]
    },
    {
      "cell_type": "code",
      "execution_count": null,
      "metadata": {
        "id": "4bj43590w2tQ"
      },
      "outputs": [],
      "source": [
        "# designated user\n",
        "designated_visitor_id = 71586\n",
        "condDesignatedVisitor = transaction_events['visitorid'] == designated_visitor_id\n",
        "assert transaction_events[condDesignatedVisitor]['itemid'].count() > 0"
      ]
    },
    {
      "cell_type": "code",
      "execution_count": null,
      "metadata": {
        "id": "5vEqorFXvpkF"
      },
      "outputs": [],
      "source": [
        "K = 100\n",
        "N = 5"
      ]
    },
    {
      "cell_type": "markdown",
      "metadata": {
        "id": "majUCbpeOMcf"
      },
      "source": [
        "## `PopularItemRecommender`"
      ]
    },
    {
      "cell_type": "code",
      "execution_count": null,
      "metadata": {
        "id": "30xk9_7Qvtsa"
      },
      "outputs": [],
      "source": [
        "class PopularItemRecommender():\n",
        "    def __init__(self, transactions, verb=False):\n",
        "        self.transactions = transactions\n",
        "        self.verb = verb\n",
        "\n",
        "        if self.verb:\n",
        "            self.welcome()\n",
        "\n",
        "    def welcome(self):\n",
        "        print(\"Popular Item Recommender\", \"\\n\")\n",
        "\n",
        "    def recommend(self, n):\n",
        "        items_recommended = (\n",
        "            self.transactions.groupby(by='itemid')['transactionid']\n",
        "            .count()\n",
        "            .sort_values(ascending=False)[:n]\n",
        "            .index\n",
        "            .tolist()\n",
        "        )\n",
        "\n",
        "        if self.verb:\n",
        "            print(\"Recommended items:\", \"\\n\")\n",
        "            display(pd.Series(items_recommended, name=\"itemid\").to_frame().T)\n",
        "\n",
        "        return items_recommended"
      ]
    },
    {
      "cell_type": "code",
      "execution_count": null,
      "metadata": {
        "id": "N10ONLsEgtSM"
      },
      "outputs": [],
      "source": [
        "items_recommended = (\n",
        "    PopularItemRecommender(transaction_events, verb=True)\n",
        "        .recommend(N)\n",
        ")"
      ]
    },
    {
      "cell_type": "markdown",
      "metadata": {
        "id": "Myxkq2onPNX0"
      },
      "source": [
        "### Explanation"
      ]
    },
    {
      "cell_type": "code",
      "execution_count": null,
      "metadata": {
        "id": "F8TNL0sIMddk"
      },
      "outputs": [],
      "source": [
        "# designated user\n",
        "display((designated_visitor_id, visitor_item_pivot.index.get_loc(designated_visitor_id)))"
      ]
    },
    {
      "cell_type": "code",
      "execution_count": null,
      "metadata": {
        "id": "tndCsVD-1PWy"
      },
      "outputs": [],
      "source": [
        "fig, axes = plt.subplots(1, 2, figsize=(10, 5))\n",
        "\n",
        "# 0\n",
        "ax = axes[0]\n",
        "df = transaction_events.groupby(by='itemid')['transactionid'].count()\n",
        "ax.hist(df, bins=40, edgecolor=\"white\", color=\"darkkhaki\")\n",
        "\n",
        "ax.set_title(\"Purchase histogram of all items (log scale)\")\n",
        "ax.set_xlabel(\"Number of purchase\")\n",
        "ax.set_ylabel(\"Frequency\")\n",
        "ax.set_yscale('log')\n",
        "\n",
        "# 1\n",
        "ax = axes[1]\n",
        "df = (transaction_events\n",
        "    .pipe(lambda df: df[df['itemid'].isin(items_recommended)])\n",
        "    .pipe(lambda df: df.groupby(by='itemid')['transactionid'].count())\n",
        "    .rename('purchase count')\n",
        "    .sort_values(ascending=False)\n",
        "    .reset_index()\n",
        ")\n",
        "\n",
        "ax.bar(df['itemid'].astype(str), df['purchase count'], color=\"purple\")\n",
        "\n",
        "ax.set_xlabel(\"Item ID\")\n",
        "ax.set_ylabel(\"Number of purchase\")\n",
        "ax.set_title(\"Recommended items\")\n",
        "\n",
        "plt.suptitle('Item popularity based on purchase count')\n",
        "plt.tight_layout()\n",
        "plt.show()"
      ]
    },
    {
      "cell_type": "markdown",
      "metadata": {
        "id": "4o14lJD-Pchf"
      },
      "source": [
        "## `MeanPopularItemRecommender`"
      ]
    },
    {
      "cell_type": "code",
      "execution_count": null,
      "metadata": {
        "id": "YmFq07Nz11Lc"
      },
      "outputs": [],
      "source": [
        "class MeanPopularItemRecommender():\n",
        "    def __init__(self, transactions, verb=False):\n",
        "        self.transactions = transactions\n",
        "        self.verb = verb\n",
        "\n",
        "        if self.verb:\n",
        "            self.welcome()\n",
        "\n",
        "    def welcome(self):\n",
        "        print(\"Mean Popular Item Recommender\", \"\\n\")\n",
        "\n",
        "    def recommend(self, n):\n",
        "        items_recommended = (\n",
        "            self.transactions\n",
        "            .pipe(lambda df: df.groupby(by=['visitorid', 'itemid'])['transactionid'].count().rename(\"visitor purchase count\"))\n",
        "            .reset_index()\n",
        "            .pipe(lambda df: df.groupby(by='itemid')['visitor purchase count'].mean())\n",
        "            .sort_values(ascending=False)[:n]\n",
        "            .index\n",
        "            .tolist()\n",
        "        )\n",
        "\n",
        "        if self.verb:\n",
        "            print(\"Recommended items:\", \"\\n\")\n",
        "            display(pd.Series(items_recommended, name=\"itemid\").to_frame().T)\n",
        "\n",
        "        return items_recommended"
      ]
    },
    {
      "cell_type": "code",
      "execution_count": null,
      "metadata": {
        "id": "iTx-rdNrCyIS"
      },
      "outputs": [],
      "source": [
        "items_recommended = (\n",
        "    MeanPopularItemRecommender(transaction_events, verb=True)\n",
        "        .recommend(N)\n",
        ")"
      ]
    },
    {
      "cell_type": "markdown",
      "metadata": {
        "id": "Ya2ht35gPrXs"
      },
      "source": [
        "### Explanation"
      ]
    },
    {
      "cell_type": "code",
      "execution_count": null,
      "metadata": {
        "id": "OfCJ9y9tMccp"
      },
      "outputs": [],
      "source": [
        "# designated user\n",
        "display((designated_visitor_id, visitor_item_pivot.index.get_loc(designated_visitor_id)))"
      ]
    },
    {
      "cell_type": "code",
      "execution_count": null,
      "metadata": {
        "id": "IBPbG-DAHdfm"
      },
      "outputs": [],
      "source": [
        "fig, axes = plt.subplots(1, 2, figsize=(10, 5))\n",
        "\n",
        "# 0\n",
        "ax = axes[0]\n",
        "df = (transaction_events\n",
        "    .pipe(lambda df: df.groupby(by=['visitorid', 'itemid'])['transactionid'].count().rename(\"visitor purchase count\"))\n",
        "    .reset_index()\n",
        "    .pipe(lambda df: df.groupby(by='itemid')['visitor purchase count'].mean()))\n",
        "ax.hist(df, bins=40, edgecolor=\"white\", color=\"darkkhaki\")\n",
        "\n",
        "ax.set_title(\"Purchase histogram of all items (log scale)\")\n",
        "ax.set_xlabel(\"Average number of purchase\")\n",
        "ax.set_ylabel(\"Frequency\")\n",
        "ax.set_yscale('log')\n",
        "\n",
        "# 1\n",
        "ax = axes[1]\n",
        "df = (transaction_events\n",
        "    .pipe(lambda df: df[df['itemid'].isin(items_recommended)])\n",
        "    .pipe(lambda df: df.groupby(by=['visitorid', 'itemid'])['transactionid'].count().rename(\"visitor purchase count\"))\n",
        "    .reset_index()\n",
        "    .pipe(lambda df: df.groupby(by='itemid')['visitor purchase count'].mean())\n",
        "    .rename('mean purchase count')\n",
        "    .sort_values(ascending=False)\n",
        "    .reset_index()\n",
        ")\n",
        "\n",
        "ax.bar(df['itemid'].astype(str), df['mean purchase count'], color=\"purple\")\n",
        "\n",
        "ax.set_xlabel(\"Item ID\")\n",
        "ax.set_ylabel(\"Average number of purchase\")\n",
        "ax.set_title(\"Recommended items\")\n",
        "\n",
        "plt.suptitle('Item popularity based on mean purchase count')\n",
        "plt.tight_layout()\n",
        "plt.show()"
      ]
    },
    {
      "cell_type": "markdown",
      "metadata": {
        "id": "1u3cKX2WwQTr"
      },
      "source": [
        "## `UserBasedCollabFilterItemRecommender`"
      ]
    },
    {
      "cell_type": "code",
      "execution_count": null,
      "metadata": {
        "id": "voJi6j8NxXQS"
      },
      "outputs": [],
      "source": [
        "visitor_item_pivot = transaction_events.pivot_table(index='visitorid', columns='itemid', values='event', aggfunc='any').fillna(0).astype(int)\n",
        "visitor_item_pivot\n",
        "assert visitor_item_pivot.sum().sum() == transaction_events.groupby(by=['visitorid', 'itemid'])['itemid'].count().reset_index(drop=True).count()"
      ]
    },
    {
      "cell_type": "code",
      "execution_count": null,
      "metadata": {
        "id": "fgIW7IhQNt_3"
      },
      "outputs": [],
      "source": [
        "visitor_item_similarity = cosine_similarity(visitor_item_pivot)\n",
        "visitor_item_similarity"
      ]
    },
    {
      "cell_type": "code",
      "execution_count": null,
      "metadata": {
        "id": "CHwiPCF1Nyos"
      },
      "outputs": [],
      "source": [
        "(visitor_item_pivot.shape, visitor_item_similarity.shape)"
      ]
    },
    {
      "cell_type": "code",
      "execution_count": null,
      "metadata": {
        "id": "JRdB7SrySpEq"
      },
      "outputs": [],
      "source": [
        "visitor_loc = visitor_item_pivot.index.get_loc(designated_visitor_id)\n",
        "selected_visitor_pivot = visitor_item_pivot.iloc[visitor_loc, :]\n",
        "selected_visitor_similarity = visitor_item_similarity[visitor_loc, :]"
      ]
    },
    {
      "cell_type": "code",
      "execution_count": null,
      "metadata": {
        "id": "11JF7cK6S-qV"
      },
      "outputs": [],
      "source": [
        "class UserBasedCollabFilterItemRecommender():\n",
        "    def __init__(self, pivot, similarity, verb=False):\n",
        "        self.pivot = pivot\n",
        "        self.similarity = similarity\n",
        "        self.verb = verb\n",
        "\n",
        "        self.fitted = False\n",
        "        self.recommended = False\n",
        "\n",
        "        if verb:\n",
        "            self.welcome()\n",
        "\n",
        "    def welcome(self):\n",
        "        print(\"User-based Collaborative Filter Item Recommender\")\n",
        "\n",
        "    def fit(self, userid):\n",
        "        self.userid = userid\n",
        "        self.user_loc = self.pivot.index.get_loc(self.userid)\n",
        "        self.user_pivot = self.pivot.iloc[self.user_loc, :]\n",
        "        self.user_similarity = self.similarity[self.user_loc, :]\n",
        "\n",
        "        interacted_mask = self.user_pivot[self.user_pivot.gt(0)]\n",
        "        interacted_itemids = interacted_mask.index\n",
        "\n",
        "        if self.verb:\n",
        "           print(\"Item # already interacted with:\\n\\n\", interacted_itemids.to_list(), \"\\n\\n\")\n",
        "\n",
        "        self.interacted_itemids = interacted_itemids\n",
        "        self.fitted = True\n",
        "\n",
        "        return self\n",
        "\n",
        "    def recommend(self, k, n, sim_threshold):\n",
        "        self.k = k\n",
        "        self.n = n\n",
        "\n",
        "        similar_user_locs = self.user_similarity.argpartition(-(k+1))[-(k+1):]\n",
        "        similar_user_locs = similar_user_locs[similar_user_locs != self.user_loc]\n",
        "        similar_user_locs = similar_user_locs[self.user_similarity[similar_user_locs] >= sim_threshold]\n",
        "\n",
        "        similar_userids = self.pivot.iloc[similar_user_locs].index\n",
        "\n",
        "        if self.verb:\n",
        "           print(f\"K={self.k} most similar user (similarity threshold: {sim_threshold}) #:\\n\\n\", similar_userids.to_list(), \"\\n\\n\")\n",
        "\n",
        "        items_recommended = (self.pivot.iloc[similar_user_locs]\n",
        "                                           .sum(axis=0)\n",
        "                                           .astype('int')\n",
        "                                           .rename('Transaction frequency')\n",
        "                                           .where(lambda x: x > 0)\n",
        "                                           .where(lambda x: np.invert(np.isin(x.index, self.interacted_itemids)))\n",
        "                                           .dropna()\n",
        "                                           .sort_values(ascending=False)[:self.n]\n",
        "                                           .astype('int')\n",
        "                            )\n",
        "\n",
        "        self.similar_userids = similar_userids\n",
        "        self.items_recommended = items_recommended\n",
        "        self.recommended = True\n",
        "\n",
        "        if self.verb:\n",
        "            print(\"Recommended items:\", \"\\n\")\n",
        "            display(pd.Series(items_recommended.index.tolist(), name=\"itemid\").to_frame().T)\n",
        "\n",
        "        return items_recommended\n",
        "\n",
        "    def get_fit_memory(self):\n",
        "        assert self.fitted, \"Model not fitted. Call .fit() first.\"\n",
        "        assert self.interacted_itemids is not None\n",
        "        return {\n",
        "            'userid': self.userid,\n",
        "            'interacted_itemids': self.interacted_itemids.to_list()\n",
        "        }\n",
        "\n",
        "    def get_recommend_memory(self):\n",
        "        assert self.recommended, \"Model has no recommendation memory. Call .recommend() first.\"\n",
        "        assert self.similar_userids is not None\n",
        "        assert self.items_recommended is not None\n",
        "        return {\n",
        "            'similar_userids': self.similar_userids.to_list(),\n",
        "            'items_recommended': self.items_recommended.index.to_list(),\n",
        "            'k': self.k,\n",
        "            'n': self.n\n",
        "        }"
      ]
    },
    {
      "cell_type": "code",
      "execution_count": null,
      "metadata": {
        "id": "8uD_wrMbTB7s"
      },
      "outputs": [],
      "source": [
        "model = UserBasedCollabFilterItemRecommender(visitor_item_pivot, visitor_item_similarity, verb=True)\n",
        "model.fit(designated_visitor_id)\n",
        "\n",
        "recommendation = model.recommend(K, N, sim_threshold=0.1)"
      ]
    },
    {
      "cell_type": "markdown",
      "metadata": {
        "id": "NjdOLSp_jUs0"
      },
      "source": [
        "### Explanation"
      ]
    },
    {
      "cell_type": "code",
      "execution_count": null,
      "metadata": {
        "id": "IdfiyLvMsl15"
      },
      "outputs": [],
      "source": [
        "# designated user\n",
        "display((designated_visitor_id, visitor_item_pivot.index.get_loc(designated_visitor_id)))"
      ]
    },
    {
      "cell_type": "code",
      "execution_count": null,
      "metadata": {
        "id": "ljA_Nz9Ae9gA"
      },
      "outputs": [],
      "source": [
        "class UserBasedCFRVerifier():\n",
        "    def __init__(self, model):\n",
        "        self.model = model\n",
        "\n",
        "    def run(self, designated_visitor_id):\n",
        "        fm = self.model.get_fit_memory()\n",
        "        rm = self.model.get_recommend_memory()\n",
        "\n",
        "        # designater user\n",
        "        assert designated_visitor_id == fm['userid']\n",
        "        # interacted items\n",
        "        df = transaction_events[transaction_events['visitorid'] == designated_visitor_id]\n",
        "        assert (df['itemid'].nunique() == len(fm['interacted_itemids']))\n",
        "        # similar users\n",
        "        assert len(rm['similar_userids']) <= rm['k']\n",
        "        assert np.invert(np.isin(designated_visitor_id, rm['similar_userids']))\n",
        "        # recommended items\n",
        "        assert np.invert(np.isin(fm['interacted_itemids'], rm['items_recommended'])).all()\n",
        "        assert len(rm['items_recommended']) <= rm['n']"
      ]
    },
    {
      "cell_type": "code",
      "execution_count": null,
      "metadata": {
        "id": "j4TeUdMYjFn4"
      },
      "outputs": [],
      "source": [
        "UserBasedCFRVerifier(model).run(designated_visitor_id)"
      ]
    },
    {
      "cell_type": "code",
      "execution_count": null,
      "metadata": {
        "id": "hjF1EouNw7Qp"
      },
      "outputs": [],
      "source": [
        "fit_memory = model.get_fit_memory()\n",
        "recommend_memory = model.get_recommend_memory()"
      ]
    },
    {
      "cell_type": "code",
      "execution_count": null,
      "metadata": {
        "id": "cR67v5IcuaXg"
      },
      "outputs": [],
      "source": [
        "# interacted items\n",
        "print(\"Interacted itemids (acc. to model): \", fit_memory['interacted_itemids'])\n",
        "print(\"Transaction records (history):\")\n",
        "display(transaction_events[condDesignatedVisitor])"
      ]
    },
    {
      "cell_type": "code",
      "execution_count": null,
      "metadata": {
        "id": "8aJ5g-NQw0yX"
      },
      "outputs": [],
      "source": [
        "# similar users\n",
        "print(f\"{recommend_memory['k']} similar user ids (acc. to model):\\n\", recommend_memory['similar_userids'])\n",
        "\n",
        "# recommended items\n",
        "print(f\"{recommend_memory['n']} recommended item ids (acc. to model):\\n\", recommend_memory['items_recommended'])"
      ]
    },
    {
      "cell_type": "code",
      "execution_count": null,
      "metadata": {
        "id": "KVjPWvSB355U"
      },
      "outputs": [],
      "source": [
        "# similarity of selected users\n",
        "visitor_item_similarity[\n",
        "    get_idx([designated_visitor_id], visitor_item_pivot),\n",
        "    get_idx(recommend_memory['similar_userids'], visitor_item_pivot)\n",
        "]"
      ]
    },
    {
      "cell_type": "code",
      "execution_count": null,
      "metadata": {
        "id": "OFJ6S4k4eiGZ"
      },
      "outputs": [],
      "source": [
        "condSimilarUsers = transaction_events['visitorid'].isin(recommend_memory['similar_userids'])\n",
        "\n",
        "df = (transaction_events[condSimilarUsers]\n",
        "    .where(lambda x: x['itemid'].isin(recommend_memory['items_recommended']))\n",
        "    .dropna()\n",
        "    .sort_values(by=['itemid', 'visitorid']))\n",
        "\n",
        "assert df['itemid'].nunique() == len(recommend_memory['items_recommended'])\n",
        "\n",
        "display(df)"
      ]
    },
    {
      "cell_type": "code",
      "execution_count": null,
      "metadata": {
        "collapsed": true,
        "id": "1jyeiQaT-myO"
      },
      "outputs": [],
      "source": [
        "similar_visitor_ids = recommend_memory['similar_userids']\n",
        "\n",
        "other_visitor_ids = (\n",
        "    visitor_item_pivot\n",
        "        .index\n",
        "        .to_frame()\n",
        "        .reset_index(drop=True)\n",
        "        .where(lambda x: x != designated_visitor_id)\n",
        "        .dropna()\n",
        ")['visitorid'].tolist()\n",
        "\n",
        "other_visitor_ids_not_in_similar_users = (visitor_item_pivot.loc[list(set(other_visitor_ids).difference(set(similar_visitor_ids)))]\n",
        "                                            .index\n",
        "                                            .tolist())\n",
        "\n",
        "(len(visitor_item_pivot), len(similar_visitor_ids), len(other_visitor_ids), len(other_visitor_ids_not_in_similar_users))"
      ]
    },
    {
      "cell_type": "code",
      "execution_count": null,
      "metadata": {
        "id": "bnAArlYG9DC1"
      },
      "outputs": [],
      "source": [
        "df = pd.DataFrame(visitor_item_similarity[\n",
        "    get_idx([designated_visitor_id], visitor_item_pivot),\n",
        "    get_idx(other_visitor_ids, visitor_item_pivot)\n",
        "], columns=['similarity'], index=other_visitor_ids)\n",
        "\n",
        "df['in_similar_users'] = visitor_item_pivot.loc[other_visitor_ids].index.isin(similar_visitor_ids)\n",
        "\n",
        "plt.figure(figsize=(6, 6))\n",
        "plt.scatter(other_visitor_ids_not_in_similar_users, df.loc[other_visitor_ids_not_in_similar_users]['similarity'], alpha=0.75, color=\"none\", edgecolor=\"cornflowerblue\")\n",
        "plt.scatter(visitor_item_pivot.loc[similar_visitor_ids].index, df.loc[similar_visitor_ids]['similarity'], alpha=0.75, color=\"none\", edgecolor=\"seagreen\", label=\"K most similar\")\n",
        "plt.xlabel(\"Other user indices\")\n",
        "plt.ylabel(\"Cosine similarity\")\n",
        "plt.title(f\"Similarities of User#{designated_visitor_id} with others\")\n",
        "plt.legend(loc=\"lower right\")\n",
        "plt.margins(0.1, 0.2)\n",
        "plt.show()"
      ]
    },
    {
      "cell_type": "code",
      "execution_count": null,
      "metadata": {
        "id": "eE3Ixc3EFE7U"
      },
      "outputs": [],
      "source": [
        "df = (transaction_events[condSimilarUsers]\n",
        "    .where(lambda x: x['itemid'].isin(recommend_memory['items_recommended']))\n",
        "    .dropna()\n",
        "    .sort_values(by=['itemid', 'visitorid']))[['visitorid', 'itemid']]\n",
        "\n",
        "df['interaction'] = np.ones(df.shape[0])\n",
        "\n",
        "all_users = recommend_memory['similar_userids']\n",
        "all_items = recommend_memory['items_recommended']\n",
        "\n",
        "full_index = pd.MultiIndex.from_product([all_users, all_items], names=['visitorid', 'itemid'])\n",
        "full_df = df.set_index(['visitorid', 'itemid']).reindex(full_index, fill_value=0).reset_index()\n",
        "pivot = full_df.pivot(index='visitorid', columns='itemid', values='interaction')\n",
        "\n",
        "plt.figure(figsize=(4, 5))\n",
        "sns.heatmap(pivot, cmap='binary_r', cbar=False)\n",
        "plt.title('Interaction between Similar users\\nand Recommended items')\n",
        "plt.xlabel('Recommended item ID')\n",
        "plt.ylabel('Similar user ID')\n",
        "plt.show()"
      ]
    }
  ],
  "metadata": {
    "colab": {
      "provenance": [],
      "toc_visible": true
    },
    "kernelspec": {
      "display_name": "Python 3",
      "name": "python3"
    },
    "language_info": {
      "name": "python"
    }
  },
  "nbformat": 4,
  "nbformat_minor": 0
}
