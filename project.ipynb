{
  "cells": [
    {
      "cell_type": "markdown",
      "metadata": {
        "id": "p6KAbfVFlXlC"
      },
      "source": [
        "# Recommendation Systems Project\n",
        "\n",
        "Mate Balogh\n",
        "\n",
        "E28H7B"
      ]
    },
    {
      "cell_type": "markdown",
      "metadata": {
        "id": "e_RFIHx-ljrA"
      },
      "source": [
        "**Item** recommendations for **visitors** in an online store based on *implicit feedback* to provide better user experience and to boost sales."
      ]
    },
    {
      "cell_type": "markdown",
      "metadata": {
        "id": "0-yptG7KrNd1"
      },
      "source": [
        "## Setup"
      ]
    },
    {
      "cell_type": "code",
      "execution_count": 34,
      "metadata": {
        "id": "v0GrNi7qLYl8"
      },
      "outputs": [],
      "source": [
        "!pip install cornac adjustText --quiet"
      ]
    },
    {
      "cell_type": "code",
      "execution_count": 35,
      "metadata": {
        "id": "lttl-ZedO5VK"
      },
      "outputs": [],
      "source": [
        "import kagglehub\n",
        "import pandas as pd\n",
        "import numpy as np\n",
        "import matplotlib.pyplot as plt\n",
        "import cornac\n",
        "import itertools\n",
        "import seaborn as sns\n",
        "\n",
        "from cornac.eval_methods import RatioSplit\n",
        "from cornac.metrics import Precision, Recall\n",
        "from cornac.models import WMF\n",
        "from adjustText import adjust_text\n",
        "from sklearn.metrics.pairwise import cosine_similarity"
      ]
    },
    {
      "cell_type": "code",
      "execution_count": 36,
      "metadata": {
        "id": "Nki51mjxsfKt"
      },
      "outputs": [],
      "source": [
        "RAND = 10"
      ]
    },
    {
      "cell_type": "code",
      "execution_count": 37,
      "metadata": {
        "id": "yf6ORHzesTIO"
      },
      "outputs": [],
      "source": [
        "#@title ### Helpers\n",
        "def get_idx(ids, collection):\n",
        "    return list(map(lambda x: collection.index.get_loc(x), ids))"
      ]
    },
    {
      "cell_type": "code",
      "execution_count": 38,
      "metadata": {
        "colab": {
          "base_uri": "https://localhost:8080/"
        },
        "id": "_N6kLVGesunf",
        "outputId": "56ca5f41-f3db-4033-f480-37ef031d8ce3"
      },
      "outputs": [
        {
          "name": "stdout",
          "output_type": "stream",
          "text": [
            "Path to dataset files: /kaggle/input/ecommerce-dataset\n"
          ]
        }
      ],
      "source": [
        "#@title ### Download dataset\n",
        "path = kagglehub.dataset_download(\"retailrocket/ecommerce-dataset\")\n",
        "print(\"Path to dataset files:\", path)"
      ]
    },
    {
      "cell_type": "markdown",
      "metadata": {
        "id": "1z_SVpREs44y"
      },
      "source": [
        "## Dataset"
      ]
    },
    {
      "cell_type": "code",
      "execution_count": 39,
      "metadata": {
        "id": "xZKwRy6es5x0"
      },
      "outputs": [],
      "source": [
        "events = pd.read_csv(path + \"/events.csv\",\n",
        "                     dtype={'timestamp': int, 'visitorid': int, 'itemid': int, 'event': 'string', 'transactionid': object})"
      ]
    },
    {
      "cell_type": "markdown",
      "metadata": {
        "id": "AmY1gFjOPiDo"
      },
      "source": [
        "## Exploratory Data Analysis"
      ]
    },
    {
      "cell_type": "code",
      "execution_count": 40,
      "metadata": {
        "colab": {
          "base_uri": "https://localhost:8080/"
        },
        "id": "8jix_5J4u1D6",
        "outputId": "cab054d6-69ca-4beb-9415-d226600d6187"
      },
      "outputs": [
        {
          "data": {
            "text/plain": [
              "(2756101, 5)"
            ]
          },
          "execution_count": 40,
          "metadata": {},
          "output_type": "execute_result"
        }
      ],
      "source": [
        "events.shape"
      ]
    },
    {
      "cell_type": "code",
      "execution_count": 41,
      "metadata": {
        "colab": {
          "base_uri": "https://localhost:8080/"
        },
        "id": "nmYzk7n5PZda",
        "outputId": "0e891d70-103e-4d7a-e365-8053fa2d913a"
      },
      "outputs": [
        {
          "data": {
            "text/plain": [
              "['timestamp', 'visitorid', 'event', 'itemid', 'transactionid']"
            ]
          },
          "execution_count": 41,
          "metadata": {},
          "output_type": "execute_result"
        }
      ],
      "source": [
        "events.columns.to_list()"
      ]
    },
    {
      "cell_type": "code",
      "execution_count": 42,
      "metadata": {
        "colab": {
          "base_uri": "https://localhost:8080/",
          "height": 143
        },
        "id": "iynbKrecPs9A",
        "outputId": "573e074c-4a94-49b0-e411-52bc0e55e364"
      },
      "outputs": [
        {
          "data": {
            "application/vnd.google.colaboratory.intrinsic+json": {
              "type": "dataframe",
              "variable_name": "events"
            },
            "text/html": [
              "\n",
              "  <div id=\"df-a8a550a7-4b41-4b04-999b-db7ef313c335\" class=\"colab-df-container\">\n",
              "    <div>\n",
              "<style scoped>\n",
              "    .dataframe tbody tr th:only-of-type {\n",
              "        vertical-align: middle;\n",
              "    }\n",
              "\n",
              "    .dataframe tbody tr th {\n",
              "        vertical-align: top;\n",
              "    }\n",
              "\n",
              "    .dataframe thead th {\n",
              "        text-align: right;\n",
              "    }\n",
              "</style>\n",
              "<table border=\"1\" class=\"dataframe\">\n",
              "  <thead>\n",
              "    <tr style=\"text-align: right;\">\n",
              "      <th></th>\n",
              "      <th>timestamp</th>\n",
              "      <th>visitorid</th>\n",
              "      <th>event</th>\n",
              "      <th>itemid</th>\n",
              "      <th>transactionid</th>\n",
              "    </tr>\n",
              "  </thead>\n",
              "  <tbody>\n",
              "    <tr>\n",
              "      <th>0</th>\n",
              "      <td>1433221332117</td>\n",
              "      <td>257597</td>\n",
              "      <td>view</td>\n",
              "      <td>355908</td>\n",
              "      <td>NaN</td>\n",
              "    </tr>\n",
              "    <tr>\n",
              "      <th>1</th>\n",
              "      <td>1433224214164</td>\n",
              "      <td>992329</td>\n",
              "      <td>view</td>\n",
              "      <td>248676</td>\n",
              "      <td>NaN</td>\n",
              "    </tr>\n",
              "    <tr>\n",
              "      <th>2</th>\n",
              "      <td>1433221999827</td>\n",
              "      <td>111016</td>\n",
              "      <td>view</td>\n",
              "      <td>318965</td>\n",
              "      <td>NaN</td>\n",
              "    </tr>\n",
              "  </tbody>\n",
              "</table>\n",
              "</div>\n",
              "    <div class=\"colab-df-buttons\">\n",
              "\n",
              "  <div class=\"colab-df-container\">\n",
              "    <button class=\"colab-df-convert\" onclick=\"convertToInteractive('df-a8a550a7-4b41-4b04-999b-db7ef313c335')\"\n",
              "            title=\"Convert this dataframe to an interactive table.\"\n",
              "            style=\"display:none;\">\n",
              "\n",
              "  <svg xmlns=\"http://www.w3.org/2000/svg\" height=\"24px\" viewBox=\"0 -960 960 960\">\n",
              "    <path d=\"M120-120v-720h720v720H120Zm60-500h600v-160H180v160Zm220 220h160v-160H400v160Zm0 220h160v-160H400v160ZM180-400h160v-160H180v160Zm440 0h160v-160H620v160ZM180-180h160v-160H180v160Zm440 0h160v-160H620v160Z\"/>\n",
              "  </svg>\n",
              "    </button>\n",
              "\n",
              "  <style>\n",
              "    .colab-df-container {\n",
              "      display:flex;\n",
              "      gap: 12px;\n",
              "    }\n",
              "\n",
              "    .colab-df-convert {\n",
              "      background-color: #E8F0FE;\n",
              "      border: none;\n",
              "      border-radius: 50%;\n",
              "      cursor: pointer;\n",
              "      display: none;\n",
              "      fill: #1967D2;\n",
              "      height: 32px;\n",
              "      padding: 0 0 0 0;\n",
              "      width: 32px;\n",
              "    }\n",
              "\n",
              "    .colab-df-convert:hover {\n",
              "      background-color: #E2EBFA;\n",
              "      box-shadow: 0px 1px 2px rgba(60, 64, 67, 0.3), 0px 1px 3px 1px rgba(60, 64, 67, 0.15);\n",
              "      fill: #174EA6;\n",
              "    }\n",
              "\n",
              "    .colab-df-buttons div {\n",
              "      margin-bottom: 4px;\n",
              "    }\n",
              "\n",
              "    [theme=dark] .colab-df-convert {\n",
              "      background-color: #3B4455;\n",
              "      fill: #D2E3FC;\n",
              "    }\n",
              "\n",
              "    [theme=dark] .colab-df-convert:hover {\n",
              "      background-color: #434B5C;\n",
              "      box-shadow: 0px 1px 3px 1px rgba(0, 0, 0, 0.15);\n",
              "      filter: drop-shadow(0px 1px 2px rgba(0, 0, 0, 0.3));\n",
              "      fill: #FFFFFF;\n",
              "    }\n",
              "  </style>\n",
              "\n",
              "    <script>\n",
              "      const buttonEl =\n",
              "        document.querySelector('#df-a8a550a7-4b41-4b04-999b-db7ef313c335 button.colab-df-convert');\n",
              "      buttonEl.style.display =\n",
              "        google.colab.kernel.accessAllowed ? 'block' : 'none';\n",
              "\n",
              "      async function convertToInteractive(key) {\n",
              "        const element = document.querySelector('#df-a8a550a7-4b41-4b04-999b-db7ef313c335');\n",
              "        const dataTable =\n",
              "          await google.colab.kernel.invokeFunction('convertToInteractive',\n",
              "                                                    [key], {});\n",
              "        if (!dataTable) return;\n",
              "\n",
              "        const docLinkHtml = 'Like what you see? Visit the ' +\n",
              "          '<a target=\"_blank\" href=https://colab.research.google.com/notebooks/data_table.ipynb>data table notebook</a>'\n",
              "          + ' to learn more about interactive tables.';\n",
              "        element.innerHTML = '';\n",
              "        dataTable['output_type'] = 'display_data';\n",
              "        await google.colab.output.renderOutput(dataTable, element);\n",
              "        const docLink = document.createElement('div');\n",
              "        docLink.innerHTML = docLinkHtml;\n",
              "        element.appendChild(docLink);\n",
              "      }\n",
              "    </script>\n",
              "  </div>\n",
              "\n",
              "\n",
              "    <div id=\"df-5c560e0b-be81-4c46-8cd9-30411fa507f3\">\n",
              "      <button class=\"colab-df-quickchart\" onclick=\"quickchart('df-5c560e0b-be81-4c46-8cd9-30411fa507f3')\"\n",
              "                title=\"Suggest charts\"\n",
              "                style=\"display:none;\">\n",
              "\n",
              "<svg xmlns=\"http://www.w3.org/2000/svg\" height=\"24px\"viewBox=\"0 0 24 24\"\n",
              "     width=\"24px\">\n",
              "    <g>\n",
              "        <path d=\"M19 3H5c-1.1 0-2 .9-2 2v14c0 1.1.9 2 2 2h14c1.1 0 2-.9 2-2V5c0-1.1-.9-2-2-2zM9 17H7v-7h2v7zm4 0h-2V7h2v10zm4 0h-2v-4h2v4z\"/>\n",
              "    </g>\n",
              "</svg>\n",
              "      </button>\n",
              "\n",
              "<style>\n",
              "  .colab-df-quickchart {\n",
              "      --bg-color: #E8F0FE;\n",
              "      --fill-color: #1967D2;\n",
              "      --hover-bg-color: #E2EBFA;\n",
              "      --hover-fill-color: #174EA6;\n",
              "      --disabled-fill-color: #AAA;\n",
              "      --disabled-bg-color: #DDD;\n",
              "  }\n",
              "\n",
              "  [theme=dark] .colab-df-quickchart {\n",
              "      --bg-color: #3B4455;\n",
              "      --fill-color: #D2E3FC;\n",
              "      --hover-bg-color: #434B5C;\n",
              "      --hover-fill-color: #FFFFFF;\n",
              "      --disabled-bg-color: #3B4455;\n",
              "      --disabled-fill-color: #666;\n",
              "  }\n",
              "\n",
              "  .colab-df-quickchart {\n",
              "    background-color: var(--bg-color);\n",
              "    border: none;\n",
              "    border-radius: 50%;\n",
              "    cursor: pointer;\n",
              "    display: none;\n",
              "    fill: var(--fill-color);\n",
              "    height: 32px;\n",
              "    padding: 0;\n",
              "    width: 32px;\n",
              "  }\n",
              "\n",
              "  .colab-df-quickchart:hover {\n",
              "    background-color: var(--hover-bg-color);\n",
              "    box-shadow: 0 1px 2px rgba(60, 64, 67, 0.3), 0 1px 3px 1px rgba(60, 64, 67, 0.15);\n",
              "    fill: var(--button-hover-fill-color);\n",
              "  }\n",
              "\n",
              "  .colab-df-quickchart-complete:disabled,\n",
              "  .colab-df-quickchart-complete:disabled:hover {\n",
              "    background-color: var(--disabled-bg-color);\n",
              "    fill: var(--disabled-fill-color);\n",
              "    box-shadow: none;\n",
              "  }\n",
              "\n",
              "  .colab-df-spinner {\n",
              "    border: 2px solid var(--fill-color);\n",
              "    border-color: transparent;\n",
              "    border-bottom-color: var(--fill-color);\n",
              "    animation:\n",
              "      spin 1s steps(1) infinite;\n",
              "  }\n",
              "\n",
              "  @keyframes spin {\n",
              "    0% {\n",
              "      border-color: transparent;\n",
              "      border-bottom-color: var(--fill-color);\n",
              "      border-left-color: var(--fill-color);\n",
              "    }\n",
              "    20% {\n",
              "      border-color: transparent;\n",
              "      border-left-color: var(--fill-color);\n",
              "      border-top-color: var(--fill-color);\n",
              "    }\n",
              "    30% {\n",
              "      border-color: transparent;\n",
              "      border-left-color: var(--fill-color);\n",
              "      border-top-color: var(--fill-color);\n",
              "      border-right-color: var(--fill-color);\n",
              "    }\n",
              "    40% {\n",
              "      border-color: transparent;\n",
              "      border-right-color: var(--fill-color);\n",
              "      border-top-color: var(--fill-color);\n",
              "    }\n",
              "    60% {\n",
              "      border-color: transparent;\n",
              "      border-right-color: var(--fill-color);\n",
              "    }\n",
              "    80% {\n",
              "      border-color: transparent;\n",
              "      border-right-color: var(--fill-color);\n",
              "      border-bottom-color: var(--fill-color);\n",
              "    }\n",
              "    90% {\n",
              "      border-color: transparent;\n",
              "      border-bottom-color: var(--fill-color);\n",
              "    }\n",
              "  }\n",
              "</style>\n",
              "\n",
              "      <script>\n",
              "        async function quickchart(key) {\n",
              "          const quickchartButtonEl =\n",
              "            document.querySelector('#' + key + ' button');\n",
              "          quickchartButtonEl.disabled = true;  // To prevent multiple clicks.\n",
              "          quickchartButtonEl.classList.add('colab-df-spinner');\n",
              "          try {\n",
              "            const charts = await google.colab.kernel.invokeFunction(\n",
              "                'suggestCharts', [key], {});\n",
              "          } catch (error) {\n",
              "            console.error('Error during call to suggestCharts:', error);\n",
              "          }\n",
              "          quickchartButtonEl.classList.remove('colab-df-spinner');\n",
              "          quickchartButtonEl.classList.add('colab-df-quickchart-complete');\n",
              "        }\n",
              "        (() => {\n",
              "          let quickchartButtonEl =\n",
              "            document.querySelector('#df-5c560e0b-be81-4c46-8cd9-30411fa507f3 button');\n",
              "          quickchartButtonEl.style.display =\n",
              "            google.colab.kernel.accessAllowed ? 'block' : 'none';\n",
              "        })();\n",
              "      </script>\n",
              "    </div>\n",
              "\n",
              "    </div>\n",
              "  </div>\n"
            ],
            "text/plain": [
              "       timestamp  visitorid event  itemid transactionid\n",
              "0  1433221332117     257597  view  355908           NaN\n",
              "1  1433224214164     992329  view  248676           NaN\n",
              "2  1433221999827     111016  view  318965           NaN"
            ]
          },
          "execution_count": 42,
          "metadata": {},
          "output_type": "execute_result"
        }
      ],
      "source": [
        "events.head(n=3)"
      ]
    },
    {
      "cell_type": "code",
      "execution_count": 43,
      "metadata": {
        "colab": {
          "base_uri": "https://localhost:8080/",
          "height": 241
        },
        "id": "8oc76vvOPwr0",
        "outputId": "5bd4bc7e-3b97-45ff-9c0d-f400864d38a4"
      },
      "outputs": [
        {
          "data": {
            "text/html": [
              "<div>\n",
              "<style scoped>\n",
              "    .dataframe tbody tr th:only-of-type {\n",
              "        vertical-align: middle;\n",
              "    }\n",
              "\n",
              "    .dataframe tbody tr th {\n",
              "        vertical-align: top;\n",
              "    }\n",
              "\n",
              "    .dataframe thead th {\n",
              "        text-align: right;\n",
              "    }\n",
              "</style>\n",
              "<table border=\"1\" class=\"dataframe\">\n",
              "  <thead>\n",
              "    <tr style=\"text-align: right;\">\n",
              "      <th></th>\n",
              "      <th>0</th>\n",
              "    </tr>\n",
              "  </thead>\n",
              "  <tbody>\n",
              "    <tr>\n",
              "      <th>timestamp</th>\n",
              "      <td>False</td>\n",
              "    </tr>\n",
              "    <tr>\n",
              "      <th>visitorid</th>\n",
              "      <td>False</td>\n",
              "    </tr>\n",
              "    <tr>\n",
              "      <th>event</th>\n",
              "      <td>False</td>\n",
              "    </tr>\n",
              "    <tr>\n",
              "      <th>itemid</th>\n",
              "      <td>False</td>\n",
              "    </tr>\n",
              "    <tr>\n",
              "      <th>transactionid</th>\n",
              "      <td>True</td>\n",
              "    </tr>\n",
              "  </tbody>\n",
              "</table>\n",
              "</div><br><label><b>dtype:</b> bool</label>"
            ],
            "text/plain": [
              "timestamp        False\n",
              "visitorid        False\n",
              "event            False\n",
              "itemid           False\n",
              "transactionid     True\n",
              "dtype: bool"
            ]
          },
          "execution_count": 43,
          "metadata": {},
          "output_type": "execute_result"
        }
      ],
      "source": [
        "events.isna().any()"
      ]
    },
    {
      "cell_type": "code",
      "execution_count": 44,
      "metadata": {
        "colab": {
          "base_uri": "https://localhost:8080/",
          "height": 300
        },
        "id": "tRY7qgwuP05S",
        "outputId": "0a321e35-2174-4249-c0ac-970c0e95fc24"
      },
      "outputs": [
        {
          "data": {
            "application/vnd.google.colaboratory.intrinsic+json": {
              "summary": "{\n  \"name\": \"events\",\n  \"rows\": 8,\n  \"fields\": [\n    {\n      \"column\": \"timestamp\",\n      \"properties\": {\n        \"dtype\": \"number\",\n        \"std\": 664181090835.8025,\n        \"min\": 2756101.0,\n        \"max\": 1442545187788.0,\n        \"num_unique_values\": 8,\n        \"samples\": [\n          1436424488348.1033,\n          1436453013599.0,\n          2756101.0\n        ],\n        \"semantic_type\": \"\",\n        \"description\": \"\"\n      }\n    },\n    {\n      \"column\": \"visitorid\",\n      \"properties\": {\n        \"dtype\": \"number\",\n        \"std\": 858320.2726337791,\n        \"min\": 0.0,\n        \"max\": 2756101.0,\n        \"num_unique_values\": 8,\n        \"samples\": [\n          701922.8832292431,\n          702060.0,\n          2756101.0\n        ],\n        \"semantic_type\": \"\",\n        \"description\": \"\"\n      }\n    },\n    {\n      \"column\": \"itemid\",\n      \"properties\": {\n        \"dtype\": \"number\",\n        \"std\": 908052.7928183689,\n        \"min\": 3.0,\n        \"max\": 2756101.0,\n        \"num_unique_values\": 8,\n        \"samples\": [\n          234922.4783750668,\n          236067.0,\n          2756101.0\n        ],\n        \"semantic_type\": \"\",\n        \"description\": \"\"\n      }\n    }\n  ]\n}",
              "type": "dataframe"
            },
            "text/html": [
              "\n",
              "  <div id=\"df-4b3dd520-a520-4c8a-acb1-7ea57a73c701\" class=\"colab-df-container\">\n",
              "    <div>\n",
              "<style scoped>\n",
              "    .dataframe tbody tr th:only-of-type {\n",
              "        vertical-align: middle;\n",
              "    }\n",
              "\n",
              "    .dataframe tbody tr th {\n",
              "        vertical-align: top;\n",
              "    }\n",
              "\n",
              "    .dataframe thead th {\n",
              "        text-align: right;\n",
              "    }\n",
              "</style>\n",
              "<table border=\"1\" class=\"dataframe\">\n",
              "  <thead>\n",
              "    <tr style=\"text-align: right;\">\n",
              "      <th></th>\n",
              "      <th>timestamp</th>\n",
              "      <th>visitorid</th>\n",
              "      <th>itemid</th>\n",
              "    </tr>\n",
              "  </thead>\n",
              "  <tbody>\n",
              "    <tr>\n",
              "      <th>count</th>\n",
              "      <td>2.756101e+06</td>\n",
              "      <td>2.756101e+06</td>\n",
              "      <td>2.756101e+06</td>\n",
              "    </tr>\n",
              "    <tr>\n",
              "      <th>mean</th>\n",
              "      <td>1.436424e+12</td>\n",
              "      <td>7.019229e+05</td>\n",
              "      <td>2.349225e+05</td>\n",
              "    </tr>\n",
              "    <tr>\n",
              "      <th>std</th>\n",
              "      <td>3.366312e+09</td>\n",
              "      <td>4.056875e+05</td>\n",
              "      <td>1.341954e+05</td>\n",
              "    </tr>\n",
              "    <tr>\n",
              "      <th>min</th>\n",
              "      <td>1.430622e+12</td>\n",
              "      <td>0.000000e+00</td>\n",
              "      <td>3.000000e+00</td>\n",
              "    </tr>\n",
              "    <tr>\n",
              "      <th>25%</th>\n",
              "      <td>1.433478e+12</td>\n",
              "      <td>3.505660e+05</td>\n",
              "      <td>1.181200e+05</td>\n",
              "    </tr>\n",
              "    <tr>\n",
              "      <th>50%</th>\n",
              "      <td>1.436453e+12</td>\n",
              "      <td>7.020600e+05</td>\n",
              "      <td>2.360670e+05</td>\n",
              "    </tr>\n",
              "    <tr>\n",
              "      <th>75%</th>\n",
              "      <td>1.439225e+12</td>\n",
              "      <td>1.053437e+06</td>\n",
              "      <td>3.507150e+05</td>\n",
              "    </tr>\n",
              "    <tr>\n",
              "      <th>max</th>\n",
              "      <td>1.442545e+12</td>\n",
              "      <td>1.407579e+06</td>\n",
              "      <td>4.668670e+05</td>\n",
              "    </tr>\n",
              "  </tbody>\n",
              "</table>\n",
              "</div>\n",
              "    <div class=\"colab-df-buttons\">\n",
              "\n",
              "  <div class=\"colab-df-container\">\n",
              "    <button class=\"colab-df-convert\" onclick=\"convertToInteractive('df-4b3dd520-a520-4c8a-acb1-7ea57a73c701')\"\n",
              "            title=\"Convert this dataframe to an interactive table.\"\n",
              "            style=\"display:none;\">\n",
              "\n",
              "  <svg xmlns=\"http://www.w3.org/2000/svg\" height=\"24px\" viewBox=\"0 -960 960 960\">\n",
              "    <path d=\"M120-120v-720h720v720H120Zm60-500h600v-160H180v160Zm220 220h160v-160H400v160Zm0 220h160v-160H400v160ZM180-400h160v-160H180v160Zm440 0h160v-160H620v160ZM180-180h160v-160H180v160Zm440 0h160v-160H620v160Z\"/>\n",
              "  </svg>\n",
              "    </button>\n",
              "\n",
              "  <style>\n",
              "    .colab-df-container {\n",
              "      display:flex;\n",
              "      gap: 12px;\n",
              "    }\n",
              "\n",
              "    .colab-df-convert {\n",
              "      background-color: #E8F0FE;\n",
              "      border: none;\n",
              "      border-radius: 50%;\n",
              "      cursor: pointer;\n",
              "      display: none;\n",
              "      fill: #1967D2;\n",
              "      height: 32px;\n",
              "      padding: 0 0 0 0;\n",
              "      width: 32px;\n",
              "    }\n",
              "\n",
              "    .colab-df-convert:hover {\n",
              "      background-color: #E2EBFA;\n",
              "      box-shadow: 0px 1px 2px rgba(60, 64, 67, 0.3), 0px 1px 3px 1px rgba(60, 64, 67, 0.15);\n",
              "      fill: #174EA6;\n",
              "    }\n",
              "\n",
              "    .colab-df-buttons div {\n",
              "      margin-bottom: 4px;\n",
              "    }\n",
              "\n",
              "    [theme=dark] .colab-df-convert {\n",
              "      background-color: #3B4455;\n",
              "      fill: #D2E3FC;\n",
              "    }\n",
              "\n",
              "    [theme=dark] .colab-df-convert:hover {\n",
              "      background-color: #434B5C;\n",
              "      box-shadow: 0px 1px 3px 1px rgba(0, 0, 0, 0.15);\n",
              "      filter: drop-shadow(0px 1px 2px rgba(0, 0, 0, 0.3));\n",
              "      fill: #FFFFFF;\n",
              "    }\n",
              "  </style>\n",
              "\n",
              "    <script>\n",
              "      const buttonEl =\n",
              "        document.querySelector('#df-4b3dd520-a520-4c8a-acb1-7ea57a73c701 button.colab-df-convert');\n",
              "      buttonEl.style.display =\n",
              "        google.colab.kernel.accessAllowed ? 'block' : 'none';\n",
              "\n",
              "      async function convertToInteractive(key) {\n",
              "        const element = document.querySelector('#df-4b3dd520-a520-4c8a-acb1-7ea57a73c701');\n",
              "        const dataTable =\n",
              "          await google.colab.kernel.invokeFunction('convertToInteractive',\n",
              "                                                    [key], {});\n",
              "        if (!dataTable) return;\n",
              "\n",
              "        const docLinkHtml = 'Like what you see? Visit the ' +\n",
              "          '<a target=\"_blank\" href=https://colab.research.google.com/notebooks/data_table.ipynb>data table notebook</a>'\n",
              "          + ' to learn more about interactive tables.';\n",
              "        element.innerHTML = '';\n",
              "        dataTable['output_type'] = 'display_data';\n",
              "        await google.colab.output.renderOutput(dataTable, element);\n",
              "        const docLink = document.createElement('div');\n",
              "        docLink.innerHTML = docLinkHtml;\n",
              "        element.appendChild(docLink);\n",
              "      }\n",
              "    </script>\n",
              "  </div>\n",
              "\n",
              "\n",
              "    <div id=\"df-3b8c42f8-0685-4341-87e9-2e52def7532f\">\n",
              "      <button class=\"colab-df-quickchart\" onclick=\"quickchart('df-3b8c42f8-0685-4341-87e9-2e52def7532f')\"\n",
              "                title=\"Suggest charts\"\n",
              "                style=\"display:none;\">\n",
              "\n",
              "<svg xmlns=\"http://www.w3.org/2000/svg\" height=\"24px\"viewBox=\"0 0 24 24\"\n",
              "     width=\"24px\">\n",
              "    <g>\n",
              "        <path d=\"M19 3H5c-1.1 0-2 .9-2 2v14c0 1.1.9 2 2 2h14c1.1 0 2-.9 2-2V5c0-1.1-.9-2-2-2zM9 17H7v-7h2v7zm4 0h-2V7h2v10zm4 0h-2v-4h2v4z\"/>\n",
              "    </g>\n",
              "</svg>\n",
              "      </button>\n",
              "\n",
              "<style>\n",
              "  .colab-df-quickchart {\n",
              "      --bg-color: #E8F0FE;\n",
              "      --fill-color: #1967D2;\n",
              "      --hover-bg-color: #E2EBFA;\n",
              "      --hover-fill-color: #174EA6;\n",
              "      --disabled-fill-color: #AAA;\n",
              "      --disabled-bg-color: #DDD;\n",
              "  }\n",
              "\n",
              "  [theme=dark] .colab-df-quickchart {\n",
              "      --bg-color: #3B4455;\n",
              "      --fill-color: #D2E3FC;\n",
              "      --hover-bg-color: #434B5C;\n",
              "      --hover-fill-color: #FFFFFF;\n",
              "      --disabled-bg-color: #3B4455;\n",
              "      --disabled-fill-color: #666;\n",
              "  }\n",
              "\n",
              "  .colab-df-quickchart {\n",
              "    background-color: var(--bg-color);\n",
              "    border: none;\n",
              "    border-radius: 50%;\n",
              "    cursor: pointer;\n",
              "    display: none;\n",
              "    fill: var(--fill-color);\n",
              "    height: 32px;\n",
              "    padding: 0;\n",
              "    width: 32px;\n",
              "  }\n",
              "\n",
              "  .colab-df-quickchart:hover {\n",
              "    background-color: var(--hover-bg-color);\n",
              "    box-shadow: 0 1px 2px rgba(60, 64, 67, 0.3), 0 1px 3px 1px rgba(60, 64, 67, 0.15);\n",
              "    fill: var(--button-hover-fill-color);\n",
              "  }\n",
              "\n",
              "  .colab-df-quickchart-complete:disabled,\n",
              "  .colab-df-quickchart-complete:disabled:hover {\n",
              "    background-color: var(--disabled-bg-color);\n",
              "    fill: var(--disabled-fill-color);\n",
              "    box-shadow: none;\n",
              "  }\n",
              "\n",
              "  .colab-df-spinner {\n",
              "    border: 2px solid var(--fill-color);\n",
              "    border-color: transparent;\n",
              "    border-bottom-color: var(--fill-color);\n",
              "    animation:\n",
              "      spin 1s steps(1) infinite;\n",
              "  }\n",
              "\n",
              "  @keyframes spin {\n",
              "    0% {\n",
              "      border-color: transparent;\n",
              "      border-bottom-color: var(--fill-color);\n",
              "      border-left-color: var(--fill-color);\n",
              "    }\n",
              "    20% {\n",
              "      border-color: transparent;\n",
              "      border-left-color: var(--fill-color);\n",
              "      border-top-color: var(--fill-color);\n",
              "    }\n",
              "    30% {\n",
              "      border-color: transparent;\n",
              "      border-left-color: var(--fill-color);\n",
              "      border-top-color: var(--fill-color);\n",
              "      border-right-color: var(--fill-color);\n",
              "    }\n",
              "    40% {\n",
              "      border-color: transparent;\n",
              "      border-right-color: var(--fill-color);\n",
              "      border-top-color: var(--fill-color);\n",
              "    }\n",
              "    60% {\n",
              "      border-color: transparent;\n",
              "      border-right-color: var(--fill-color);\n",
              "    }\n",
              "    80% {\n",
              "      border-color: transparent;\n",
              "      border-right-color: var(--fill-color);\n",
              "      border-bottom-color: var(--fill-color);\n",
              "    }\n",
              "    90% {\n",
              "      border-color: transparent;\n",
              "      border-bottom-color: var(--fill-color);\n",
              "    }\n",
              "  }\n",
              "</style>\n",
              "\n",
              "      <script>\n",
              "        async function quickchart(key) {\n",
              "          const quickchartButtonEl =\n",
              "            document.querySelector('#' + key + ' button');\n",
              "          quickchartButtonEl.disabled = true;  // To prevent multiple clicks.\n",
              "          quickchartButtonEl.classList.add('colab-df-spinner');\n",
              "          try {\n",
              "            const charts = await google.colab.kernel.invokeFunction(\n",
              "                'suggestCharts', [key], {});\n",
              "          } catch (error) {\n",
              "            console.error('Error during call to suggestCharts:', error);\n",
              "          }\n",
              "          quickchartButtonEl.classList.remove('colab-df-spinner');\n",
              "          quickchartButtonEl.classList.add('colab-df-quickchart-complete');\n",
              "        }\n",
              "        (() => {\n",
              "          let quickchartButtonEl =\n",
              "            document.querySelector('#df-3b8c42f8-0685-4341-87e9-2e52def7532f button');\n",
              "          quickchartButtonEl.style.display =\n",
              "            google.colab.kernel.accessAllowed ? 'block' : 'none';\n",
              "        })();\n",
              "      </script>\n",
              "    </div>\n",
              "\n",
              "    </div>\n",
              "  </div>\n"
            ],
            "text/plain": [
              "          timestamp     visitorid        itemid\n",
              "count  2.756101e+06  2.756101e+06  2.756101e+06\n",
              "mean   1.436424e+12  7.019229e+05  2.349225e+05\n",
              "std    3.366312e+09  4.056875e+05  1.341954e+05\n",
              "min    1.430622e+12  0.000000e+00  3.000000e+00\n",
              "25%    1.433478e+12  3.505660e+05  1.181200e+05\n",
              "50%    1.436453e+12  7.020600e+05  2.360670e+05\n",
              "75%    1.439225e+12  1.053437e+06  3.507150e+05\n",
              "max    1.442545e+12  1.407579e+06  4.668670e+05"
            ]
          },
          "execution_count": 44,
          "metadata": {},
          "output_type": "execute_result"
        }
      ],
      "source": [
        "events.describe()"
      ]
    },
    {
      "cell_type": "code",
      "execution_count": 45,
      "metadata": {
        "colab": {
          "base_uri": "https://localhost:8080/"
        },
        "id": "kXoeXU9lP9Ib",
        "outputId": "d561de42-7509-4818-e15c-e1e5cca873fc"
      },
      "outputs": [
        {
          "name": "stdout",
          "output_type": "stream",
          "text": [
            "# of visitors in 'events': 2756101 among which 1407580 is unique.\n",
            "# of items in 'events': 2756101 among which 235061 is unique.\n",
            "# of event in 'events': 2756101 among which 3 is unique.\n",
            "# of transactions in 'events': 22457 among which 17672 is unique.\n"
          ]
        }
      ],
      "source": [
        "print(\"# of visitors in 'events':\", events['visitorid'].count(), \"among which\", events['visitorid'].nunique(), \"is unique.\")\n",
        "print(\"# of items in 'events':\", events['itemid'].count(), \"among which\", events['itemid'].nunique(), \"is unique.\")\n",
        "print(\"# of event in 'events':\", events['event'].count(), \"among which\", events['event'].nunique(), \"is unique.\")\n",
        "print(\"# of transactions in 'events':\", events['transactionid'].count(), \"among which\", events['transactionid'].nunique(), \"is unique.\")"
      ]
    },
    {
      "cell_type": "code",
      "execution_count": 46,
      "metadata": {
        "colab": {
          "base_uri": "https://localhost:8080/",
          "height": 424
        },
        "id": "DAlFtgCEQpA9",
        "outputId": "667fa549-5bbf-41d0-b0a1-4f27fbe64fb7"
      },
      "outputs": [
        {
          "data": {
            "application/vnd.google.colaboratory.intrinsic+json": {
              "type": "dataframe"
            },
            "text/html": [
              "\n",
              "  <div id=\"df-bdd4fdd0-e1b1-4163-936f-32c356e61ff2\" class=\"colab-df-container\">\n",
              "    <div>\n",
              "<style scoped>\n",
              "    .dataframe tbody tr th:only-of-type {\n",
              "        vertical-align: middle;\n",
              "    }\n",
              "\n",
              "    .dataframe tbody tr th {\n",
              "        vertical-align: top;\n",
              "    }\n",
              "\n",
              "    .dataframe thead th {\n",
              "        text-align: right;\n",
              "    }\n",
              "</style>\n",
              "<table border=\"1\" class=\"dataframe\">\n",
              "  <thead>\n",
              "    <tr style=\"text-align: right;\">\n",
              "      <th></th>\n",
              "      <th>timestamp</th>\n",
              "      <th>visitorid</th>\n",
              "      <th>event</th>\n",
              "      <th>itemid</th>\n",
              "      <th>transactionid</th>\n",
              "    </tr>\n",
              "  </thead>\n",
              "  <tbody>\n",
              "    <tr>\n",
              "      <th>1113712</th>\n",
              "      <td>1440787093666</td>\n",
              "      <td>1283849</td>\n",
              "      <td>transaction</td>\n",
              "      <td>459615</td>\n",
              "      <td>9999</td>\n",
              "    </tr>\n",
              "    <tr>\n",
              "      <th>2372854</th>\n",
              "      <td>1437093851492</td>\n",
              "      <td>530559</td>\n",
              "      <td>transaction</td>\n",
              "      <td>357519</td>\n",
              "      <td>9998</td>\n",
              "    </tr>\n",
              "    <tr>\n",
              "      <th>1772020</th>\n",
              "      <td>1431999053822</td>\n",
              "      <td>55389</td>\n",
              "      <td>transaction</td>\n",
              "      <td>412516</td>\n",
              "      <td>9997</td>\n",
              "    </tr>\n",
              "    <tr>\n",
              "      <th>1478628</th>\n",
              "      <td>1430669157237</td>\n",
              "      <td>1390702</td>\n",
              "      <td>transaction</td>\n",
              "      <td>86218</td>\n",
              "      <td>9996</td>\n",
              "    </tr>\n",
              "    <tr>\n",
              "      <th>2090520</th>\n",
              "      <td>1435854317206</td>\n",
              "      <td>271719</td>\n",
              "      <td>transaction</td>\n",
              "      <td>238386</td>\n",
              "      <td>9995</td>\n",
              "    </tr>\n",
              "    <tr>\n",
              "      <th>...</th>\n",
              "      <td>...</td>\n",
              "      <td>...</td>\n",
              "      <td>...</td>\n",
              "      <td>...</td>\n",
              "      <td>...</td>\n",
              "    </tr>\n",
              "    <tr>\n",
              "      <th>2756096</th>\n",
              "      <td>1438398785939</td>\n",
              "      <td>591435</td>\n",
              "      <td>view</td>\n",
              "      <td>261427</td>\n",
              "      <td>NaN</td>\n",
              "    </tr>\n",
              "    <tr>\n",
              "      <th>2756097</th>\n",
              "      <td>1438399813142</td>\n",
              "      <td>762376</td>\n",
              "      <td>view</td>\n",
              "      <td>115946</td>\n",
              "      <td>NaN</td>\n",
              "    </tr>\n",
              "    <tr>\n",
              "      <th>2756098</th>\n",
              "      <td>1438397820527</td>\n",
              "      <td>1251746</td>\n",
              "      <td>view</td>\n",
              "      <td>78144</td>\n",
              "      <td>NaN</td>\n",
              "    </tr>\n",
              "    <tr>\n",
              "      <th>2756099</th>\n",
              "      <td>1438398530703</td>\n",
              "      <td>1184451</td>\n",
              "      <td>view</td>\n",
              "      <td>283392</td>\n",
              "      <td>NaN</td>\n",
              "    </tr>\n",
              "    <tr>\n",
              "      <th>2756100</th>\n",
              "      <td>1438400163914</td>\n",
              "      <td>199536</td>\n",
              "      <td>view</td>\n",
              "      <td>152913</td>\n",
              "      <td>NaN</td>\n",
              "    </tr>\n",
              "  </tbody>\n",
              "</table>\n",
              "<p>2756101 rows × 5 columns</p>\n",
              "</div>\n",
              "    <div class=\"colab-df-buttons\">\n",
              "\n",
              "  <div class=\"colab-df-container\">\n",
              "    <button class=\"colab-df-convert\" onclick=\"convertToInteractive('df-bdd4fdd0-e1b1-4163-936f-32c356e61ff2')\"\n",
              "            title=\"Convert this dataframe to an interactive table.\"\n",
              "            style=\"display:none;\">\n",
              "\n",
              "  <svg xmlns=\"http://www.w3.org/2000/svg\" height=\"24px\" viewBox=\"0 -960 960 960\">\n",
              "    <path d=\"M120-120v-720h720v720H120Zm60-500h600v-160H180v160Zm220 220h160v-160H400v160Zm0 220h160v-160H400v160ZM180-400h160v-160H180v160Zm440 0h160v-160H620v160ZM180-180h160v-160H180v160Zm440 0h160v-160H620v160Z\"/>\n",
              "  </svg>\n",
              "    </button>\n",
              "\n",
              "  <style>\n",
              "    .colab-df-container {\n",
              "      display:flex;\n",
              "      gap: 12px;\n",
              "    }\n",
              "\n",
              "    .colab-df-convert {\n",
              "      background-color: #E8F0FE;\n",
              "      border: none;\n",
              "      border-radius: 50%;\n",
              "      cursor: pointer;\n",
              "      display: none;\n",
              "      fill: #1967D2;\n",
              "      height: 32px;\n",
              "      padding: 0 0 0 0;\n",
              "      width: 32px;\n",
              "    }\n",
              "\n",
              "    .colab-df-convert:hover {\n",
              "      background-color: #E2EBFA;\n",
              "      box-shadow: 0px 1px 2px rgba(60, 64, 67, 0.3), 0px 1px 3px 1px rgba(60, 64, 67, 0.15);\n",
              "      fill: #174EA6;\n",
              "    }\n",
              "\n",
              "    .colab-df-buttons div {\n",
              "      margin-bottom: 4px;\n",
              "    }\n",
              "\n",
              "    [theme=dark] .colab-df-convert {\n",
              "      background-color: #3B4455;\n",
              "      fill: #D2E3FC;\n",
              "    }\n",
              "\n",
              "    [theme=dark] .colab-df-convert:hover {\n",
              "      background-color: #434B5C;\n",
              "      box-shadow: 0px 1px 3px 1px rgba(0, 0, 0, 0.15);\n",
              "      filter: drop-shadow(0px 1px 2px rgba(0, 0, 0, 0.3));\n",
              "      fill: #FFFFFF;\n",
              "    }\n",
              "  </style>\n",
              "\n",
              "    <script>\n",
              "      const buttonEl =\n",
              "        document.querySelector('#df-bdd4fdd0-e1b1-4163-936f-32c356e61ff2 button.colab-df-convert');\n",
              "      buttonEl.style.display =\n",
              "        google.colab.kernel.accessAllowed ? 'block' : 'none';\n",
              "\n",
              "      async function convertToInteractive(key) {\n",
              "        const element = document.querySelector('#df-bdd4fdd0-e1b1-4163-936f-32c356e61ff2');\n",
              "        const dataTable =\n",
              "          await google.colab.kernel.invokeFunction('convertToInteractive',\n",
              "                                                    [key], {});\n",
              "        if (!dataTable) return;\n",
              "\n",
              "        const docLinkHtml = 'Like what you see? Visit the ' +\n",
              "          '<a target=\"_blank\" href=https://colab.research.google.com/notebooks/data_table.ipynb>data table notebook</a>'\n",
              "          + ' to learn more about interactive tables.';\n",
              "        element.innerHTML = '';\n",
              "        dataTable['output_type'] = 'display_data';\n",
              "        await google.colab.output.renderOutput(dataTable, element);\n",
              "        const docLink = document.createElement('div');\n",
              "        docLink.innerHTML = docLinkHtml;\n",
              "        element.appendChild(docLink);\n",
              "      }\n",
              "    </script>\n",
              "  </div>\n",
              "\n",
              "\n",
              "    <div id=\"df-1c1107aa-7a85-4320-a101-e9ba3640a8bf\">\n",
              "      <button class=\"colab-df-quickchart\" onclick=\"quickchart('df-1c1107aa-7a85-4320-a101-e9ba3640a8bf')\"\n",
              "                title=\"Suggest charts\"\n",
              "                style=\"display:none;\">\n",
              "\n",
              "<svg xmlns=\"http://www.w3.org/2000/svg\" height=\"24px\"viewBox=\"0 0 24 24\"\n",
              "     width=\"24px\">\n",
              "    <g>\n",
              "        <path d=\"M19 3H5c-1.1 0-2 .9-2 2v14c0 1.1.9 2 2 2h14c1.1 0 2-.9 2-2V5c0-1.1-.9-2-2-2zM9 17H7v-7h2v7zm4 0h-2V7h2v10zm4 0h-2v-4h2v4z\"/>\n",
              "    </g>\n",
              "</svg>\n",
              "      </button>\n",
              "\n",
              "<style>\n",
              "  .colab-df-quickchart {\n",
              "      --bg-color: #E8F0FE;\n",
              "      --fill-color: #1967D2;\n",
              "      --hover-bg-color: #E2EBFA;\n",
              "      --hover-fill-color: #174EA6;\n",
              "      --disabled-fill-color: #AAA;\n",
              "      --disabled-bg-color: #DDD;\n",
              "  }\n",
              "\n",
              "  [theme=dark] .colab-df-quickchart {\n",
              "      --bg-color: #3B4455;\n",
              "      --fill-color: #D2E3FC;\n",
              "      --hover-bg-color: #434B5C;\n",
              "      --hover-fill-color: #FFFFFF;\n",
              "      --disabled-bg-color: #3B4455;\n",
              "      --disabled-fill-color: #666;\n",
              "  }\n",
              "\n",
              "  .colab-df-quickchart {\n",
              "    background-color: var(--bg-color);\n",
              "    border: none;\n",
              "    border-radius: 50%;\n",
              "    cursor: pointer;\n",
              "    display: none;\n",
              "    fill: var(--fill-color);\n",
              "    height: 32px;\n",
              "    padding: 0;\n",
              "    width: 32px;\n",
              "  }\n",
              "\n",
              "  .colab-df-quickchart:hover {\n",
              "    background-color: var(--hover-bg-color);\n",
              "    box-shadow: 0 1px 2px rgba(60, 64, 67, 0.3), 0 1px 3px 1px rgba(60, 64, 67, 0.15);\n",
              "    fill: var(--button-hover-fill-color);\n",
              "  }\n",
              "\n",
              "  .colab-df-quickchart-complete:disabled,\n",
              "  .colab-df-quickchart-complete:disabled:hover {\n",
              "    background-color: var(--disabled-bg-color);\n",
              "    fill: var(--disabled-fill-color);\n",
              "    box-shadow: none;\n",
              "  }\n",
              "\n",
              "  .colab-df-spinner {\n",
              "    border: 2px solid var(--fill-color);\n",
              "    border-color: transparent;\n",
              "    border-bottom-color: var(--fill-color);\n",
              "    animation:\n",
              "      spin 1s steps(1) infinite;\n",
              "  }\n",
              "\n",
              "  @keyframes spin {\n",
              "    0% {\n",
              "      border-color: transparent;\n",
              "      border-bottom-color: var(--fill-color);\n",
              "      border-left-color: var(--fill-color);\n",
              "    }\n",
              "    20% {\n",
              "      border-color: transparent;\n",
              "      border-left-color: var(--fill-color);\n",
              "      border-top-color: var(--fill-color);\n",
              "    }\n",
              "    30% {\n",
              "      border-color: transparent;\n",
              "      border-left-color: var(--fill-color);\n",
              "      border-top-color: var(--fill-color);\n",
              "      border-right-color: var(--fill-color);\n",
              "    }\n",
              "    40% {\n",
              "      border-color: transparent;\n",
              "      border-right-color: var(--fill-color);\n",
              "      border-top-color: var(--fill-color);\n",
              "    }\n",
              "    60% {\n",
              "      border-color: transparent;\n",
              "      border-right-color: var(--fill-color);\n",
              "    }\n",
              "    80% {\n",
              "      border-color: transparent;\n",
              "      border-right-color: var(--fill-color);\n",
              "      border-bottom-color: var(--fill-color);\n",
              "    }\n",
              "    90% {\n",
              "      border-color: transparent;\n",
              "      border-bottom-color: var(--fill-color);\n",
              "    }\n",
              "  }\n",
              "</style>\n",
              "\n",
              "      <script>\n",
              "        async function quickchart(key) {\n",
              "          const quickchartButtonEl =\n",
              "            document.querySelector('#' + key + ' button');\n",
              "          quickchartButtonEl.disabled = true;  // To prevent multiple clicks.\n",
              "          quickchartButtonEl.classList.add('colab-df-spinner');\n",
              "          try {\n",
              "            const charts = await google.colab.kernel.invokeFunction(\n",
              "                'suggestCharts', [key], {});\n",
              "          } catch (error) {\n",
              "            console.error('Error during call to suggestCharts:', error);\n",
              "          }\n",
              "          quickchartButtonEl.classList.remove('colab-df-spinner');\n",
              "          quickchartButtonEl.classList.add('colab-df-quickchart-complete');\n",
              "        }\n",
              "        (() => {\n",
              "          let quickchartButtonEl =\n",
              "            document.querySelector('#df-1c1107aa-7a85-4320-a101-e9ba3640a8bf button');\n",
              "          quickchartButtonEl.style.display =\n",
              "            google.colab.kernel.accessAllowed ? 'block' : 'none';\n",
              "        })();\n",
              "      </script>\n",
              "    </div>\n",
              "\n",
              "    </div>\n",
              "  </div>\n"
            ],
            "text/plain": [
              "             timestamp  visitorid        event  itemid transactionid\n",
              "1113712  1440787093666    1283849  transaction  459615          9999\n",
              "2372854  1437093851492     530559  transaction  357519          9998\n",
              "1772020  1431999053822      55389  transaction  412516          9997\n",
              "1478628  1430669157237    1390702  transaction   86218          9996\n",
              "2090520  1435854317206     271719  transaction  238386          9995\n",
              "...                ...        ...          ...     ...           ...\n",
              "2756096  1438398785939     591435         view  261427           NaN\n",
              "2756097  1438399813142     762376         view  115946           NaN\n",
              "2756098  1438397820527    1251746         view   78144           NaN\n",
              "2756099  1438398530703    1184451         view  283392           NaN\n",
              "2756100  1438400163914     199536         view  152913           NaN\n",
              "\n",
              "[2756101 rows x 5 columns]"
            ]
          },
          "execution_count": 46,
          "metadata": {},
          "output_type": "execute_result"
        }
      ],
      "source": [
        "events.sort_values(by=['transactionid'], ascending=False)"
      ]
    },
    {
      "cell_type": "code",
      "execution_count": 47,
      "metadata": {
        "cellView": "form",
        "colab": {
          "base_uri": "https://localhost:8080/",
          "height": 512
        },
        "id": "DiKDpNfzvLqb",
        "outputId": "03f521bd-0a64-4226-e8ab-f020f6c4ab12"
      },
      "outputs": [
        {
          "data": {
            "image/png": "[encoded data removed]",
            "text/plain": [
              "<Figure size 1000x500 with 2 Axes>"
            ]
          },
          "metadata": {},
          "output_type": "display_data"
        }
      ],
      "source": [
        "#@title #### Event frequency distribution\n",
        "\n",
        "fig, axes = plt.subplots(1, 2, figsize=(10, 5))\n",
        "\n",
        "events_freqdist = events.groupby('event')['event'].count()\n",
        "\n",
        "def plot_on_ax(_ax):\n",
        "    fd = _ax.bar(events_freqdist.index, events_freqdist.values, color=\"darkkhaki\")\n",
        "    _ax.bar_label(fd, fmt=\"{:,.0f}\")\n",
        "\n",
        "ax = axes[0]\n",
        "plot_on_ax(ax)\n",
        "ax.set_title(\"Normal scale\")\n",
        "\n",
        "ax = axes[1]\n",
        "plot_on_ax(ax)\n",
        "ax.set_yscale('log')\n",
        "ax.set_title(\"Log scale\")\n",
        "\n",
        "for ax in axes:\n",
        "    ax.set_ylabel('Frequency')\n",
        "    ax.margins(.15)\n",
        "\n",
        "plt.suptitle('Event distribution')\n",
        "plt.tight_layout()\n",
        "plt.show()\n",
        "\n",
        "del plot_on_ax"
      ]
    },
    {
      "cell_type": "markdown",
      "metadata": {
        "id": "bi22lMFG9EpI"
      },
      "source": [
        "### Transaction events"
      ]
    },
    {
      "cell_type": "code",
      "execution_count": 48,
      "metadata": {
        "colab": {
          "base_uri": "https://localhost:8080/"
        },
        "id": "mh8ceRCj9HrI",
        "outputId": "d2daeea0-b296-406f-b001-3a69fa640486"
      },
      "outputs": [
        {
          "name": "stdout",
          "output_type": "stream",
          "text": [
            "`transaction_events` shape: (22457, 5)\n"
          ]
        }
      ],
      "source": [
        "condTransaction = events['event'] == 'transaction'\n",
        "transaction_events = events[condTransaction]\n",
        "\n",
        "print(\"`transaction_events` shape:\", transaction_events.shape)\n",
        "assert transaction_events['transactionid'].notna().all()"
      ]
    },
    {
      "cell_type": "code",
      "execution_count": 49,
      "metadata": {
        "colab": {
          "base_uri": "https://localhost:8080/",
          "height": 472
        },
        "id": "sucEIeC6yXdJ",
        "outputId": "35f62018-efa9-4ea2-b286-61964552400e"
      },
      "outputs": [
        {
          "data": {
            "image/png": "[encoded data removed]",
            "text/plain": [
              "<Figure size 640x480 with 1 Axes>"
            ]
          },
          "metadata": {},
          "output_type": "display_data"
        }
      ],
      "source": [
        "plt.hist(transaction_events.groupby(by='itemid')['transactionid'].count().reset_index(drop=True),\n",
        "         bins=40, edgecolor=\"white\", color=\"olive\")\n",
        "\n",
        "plt.title(\"Item-wise Purchase Histogram (log scale)\")\n",
        "plt.xlabel(\"Number of Purchase\")\n",
        "plt.ylabel(\"Frequency\")\n",
        "plt.yscale('log')\n",
        "plt.show()"
      ]
    },
    {
      "cell_type": "code",
      "execution_count": 50,
      "metadata": {
        "colab": {
          "base_uri": "https://localhost:8080/",
          "height": 472
        },
        "id": "hMrrVkAgWjFn",
        "outputId": "8caa1b19-1af3-4fb6-aa18-552e7b7a3fe3"
      },
      "outputs": [
        {
          "data": {
            "image/png": "[encoded data removed]",
            "text/plain": [
              "<Figure size 640x480 with 1 Axes>"
            ]
          },
          "metadata": {},
          "output_type": "display_data"
        }
      ],
      "source": [
        "plt.hist(transaction_events.groupby(by=['visitorid', 'itemid'])['transactionid'].count().reset_index(drop=True),\n",
        "         bins=40, edgecolor=\"white\", color=\"olive\")\n",
        "\n",
        "plt.title(\"User-item-wise Purchase Histogram (log scale)\")\n",
        "plt.xlabel(\"Number of Purchase\")\n",
        "plt.ylabel(\"Frequency\")\n",
        "plt.yscale('log')\n",
        "plt.show()"
      ]
    },
    {
      "cell_type": "markdown",
      "metadata": {
        "id": "rEujUr6EwNL7"
      },
      "source": [
        "# Implementations"
      ]
    },
    {
      "cell_type": "code",
      "execution_count": 51,
      "metadata": {
        "id": "4bj43590w2tQ"
      },
      "outputs": [],
      "source": [
        "# designated user\n",
        "designated_visitor_id = 71586\n",
        "condDesignatedVisitor = transaction_events['visitorid'] == designated_visitor_id\n",
        "assert transaction_events[condDesignatedVisitor]['itemid'].count() > 0"
      ]
    },
    {
      "cell_type": "code",
      "execution_count": 52,
      "metadata": {
        "id": "5vEqorFXvpkF"
      },
      "outputs": [],
      "source": [
        "K = 100\n",
        "N = 5"
      ]
    },
    {
      "cell_type": "markdown",
      "metadata": {
        "id": "majUCbpeOMcf"
      },
      "source": [
        "## `PopularItemRecommender`"
      ]
    },
    {
      "cell_type": "code",
      "execution_count": 53,
      "metadata": {
        "id": "30xk9_7Qvtsa"
      },
      "outputs": [],
      "source": [
        "class PopularItemRecommender():\n",
        "    def __init__(self, transactions, verb=False):\n",
        "        self.transactions = transactions\n",
        "        self.verb = verb\n",
        "\n",
        "        if self.verb:\n",
        "            self.welcome()\n",
        "\n",
        "    def welcome(self):\n",
        "        print(\"Popular Item Recommender\", \"\\n\")\n",
        "\n",
        "    def recommend(self, n):\n",
        "        items_recommended = (\n",
        "            self.transactions.groupby(by='itemid')['transactionid']\n",
        "            .count()\n",
        "            .sort_values(ascending=False)[:n]\n",
        "            .index\n",
        "            .tolist()\n",
        "        )\n",
        "\n",
        "        if self.verb:\n",
        "            print(\"Recommended items:\", \"\\n\")\n",
        "            display(pd.Series(items_recommended, name=\"itemid\").to_frame().T)\n",
        "\n",
        "        return items_recommended"
      ]
    },
    {
      "cell_type": "code",
      "execution_count": 54,
      "metadata": {
        "colab": {
          "base_uri": "https://localhost:8080/",
          "height": 0
        },
        "id": "N10ONLsEgtSM",
        "outputId": "1b569c49-9373-4132-b598-04145d8ed0c8"
      },
      "outputs": [
        {
          "name": "stdout",
          "output_type": "stream",
          "text": [
            "Popular Item Recommender \n",
            "\n",
            "Recommended items: \n",
            "\n"
          ]
        },
        {
          "data": {
            "application/vnd.google.colaboratory.intrinsic+json": {
              "summary": "{\n  \"name\": \")\",\n  \"rows\": 1,\n  \"fields\": [\n    {\n      \"column\": 0,\n      \"properties\": {\n        \"dtype\": \"number\",\n        \"std\": null,\n        \"min\": 461686,\n        \"max\": 461686,\n        \"num_unique_values\": 1,\n        \"samples\": [\n          461686\n        ],\n        \"semantic_type\": \"\",\n        \"description\": \"\"\n      }\n    },\n    {\n      \"column\": 1,\n      \"properties\": {\n        \"dtype\": \"number\",\n        \"std\": null,\n        \"min\": 119736,\n        \"max\": 119736,\n        \"num_unique_values\": 1,\n        \"samples\": [\n          119736\n        ],\n        \"semantic_type\": \"\",\n        \"description\": \"\"\n      }\n    },\n    {\n      \"column\": 2,\n      \"properties\": {\n        \"dtype\": \"number\",\n        \"std\": null,\n        \"min\": 213834,\n        \"max\": 213834,\n        \"num_unique_values\": 1,\n        \"samples\": [\n          213834\n        ],\n        \"semantic_type\": \"\",\n        \"description\": \"\"\n      }\n    },\n    {\n      \"column\": 3,\n      \"properties\": {\n        \"dtype\": \"number\",\n        \"std\": null,\n        \"min\": 7943,\n        \"max\": 7943,\n        \"num_unique_values\": 1,\n        \"samples\": [\n          7943\n        ],\n        \"semantic_type\": \"\",\n        \"description\": \"\"\n      }\n    },\n    {\n      \"column\": 4,\n      \"properties\": {\n        \"dtype\": \"number\",\n        \"std\": null,\n        \"min\": 312728,\n        \"max\": 312728,\n        \"num_unique_values\": 1,\n        \"samples\": [\n          312728\n        ],\n        \"semantic_type\": \"\",\n        \"description\": \"\"\n      }\n    }\n  ]\n}",
              "type": "dataframe"
            },
            "text/html": [
              "\n",
              "  <div id=\"df-98746544-4608-44d7-8eb7-5d554e133ee5\" class=\"colab-df-container\">\n",
              "    <div>\n",
              "<style scoped>\n",
              "    .dataframe tbody tr th:only-of-type {\n",
              "        vertical-align: middle;\n",
              "    }\n",
              "\n",
              "    .dataframe tbody tr th {\n",
              "        vertical-align: top;\n",
              "    }\n",
              "\n",
              "    .dataframe thead th {\n",
              "        text-align: right;\n",
              "    }\n",
              "</style>\n",
              "<table border=\"1\" class=\"dataframe\">\n",
              "  <thead>\n",
              "    <tr style=\"text-align: right;\">\n",
              "      <th></th>\n",
              "      <th>0</th>\n",
              "      <th>1</th>\n",
              "      <th>2</th>\n",
              "      <th>3</th>\n",
              "      <th>4</th>\n",
              "    </tr>\n",
              "  </thead>\n",
              "  <tbody>\n",
              "    <tr>\n",
              "      <th>itemid</th>\n",
              "      <td>461686</td>\n",
              "      <td>119736</td>\n",
              "      <td>213834</td>\n",
              "      <td>7943</td>\n",
              "      <td>312728</td>\n",
              "    </tr>\n",
              "  </tbody>\n",
              "</table>\n",
              "</div>\n",
              "    <div class=\"colab-df-buttons\">\n",
              "\n",
              "  <div class=\"colab-df-container\">\n",
              "    <button class=\"colab-df-convert\" onclick=\"convertToInteractive('df-98746544-4608-44d7-8eb7-5d554e133ee5')\"\n",
              "            title=\"Convert this dataframe to an interactive table.\"\n",
              "            style=\"display:none;\">\n",
              "\n",
              "  <svg xmlns=\"http://www.w3.org/2000/svg\" height=\"24px\" viewBox=\"0 -960 960 960\">\n",
              "    <path d=\"M120-120v-720h720v720H120Zm60-500h600v-160H180v160Zm220 220h160v-160H400v160Zm0 220h160v-160H400v160ZM180-400h160v-160H180v160Zm440 0h160v-160H620v160ZM180-180h160v-160H180v160Zm440 0h160v-160H620v160Z\"/>\n",
              "  </svg>\n",
              "    </button>\n",
              "\n",
              "  <style>\n",
              "    .colab-df-container {\n",
              "      display:flex;\n",
              "      gap: 12px;\n",
              "    }\n",
              "\n",
              "    .colab-df-convert {\n",
              "      background-color: #E8F0FE;\n",
              "      border: none;\n",
              "      border-radius: 50%;\n",
              "      cursor: pointer;\n",
              "      display: none;\n",
              "      fill: #1967D2;\n",
              "      height: 32px;\n",
              "      padding: 0 0 0 0;\n",
              "      width: 32px;\n",
              "    }\n",
              "\n",
              "    .colab-df-convert:hover {\n",
              "      background-color: #E2EBFA;\n",
              "      box-shadow: 0px 1px 2px rgba(60, 64, 67, 0.3), 0px 1px 3px 1px rgba(60, 64, 67, 0.15);\n",
              "      fill: #174EA6;\n",
              "    }\n",
              "\n",
              "    .colab-df-buttons div {\n",
              "      margin-bottom: 4px;\n",
              "    }\n",
              "\n",
              "    [theme=dark] .colab-df-convert {\n",
              "      background-color: #3B4455;\n",
              "      fill: #D2E3FC;\n",
              "    }\n",
              "\n",
              "    [theme=dark] .colab-df-convert:hover {\n",
              "      background-color: #434B5C;\n",
              "      box-shadow: 0px 1px 3px 1px rgba(0, 0, 0, 0.15);\n",
              "      filter: drop-shadow(0px 1px 2px rgba(0, 0, 0, 0.3));\n",
              "      fill: #FFFFFF;\n",
              "    }\n",
              "  </style>\n",
              "\n",
              "    <script>\n",
              "      const buttonEl =\n",
              "        document.querySelector('#df-98746544-4608-44d7-8eb7-5d554e133ee5 button.colab-df-convert');\n",
              "      buttonEl.style.display =\n",
              "        google.colab.kernel.accessAllowed ? 'block' : 'none';\n",
              "\n",
              "      async function convertToInteractive(key) {\n",
              "        const element = document.querySelector('#df-98746544-4608-44d7-8eb7-5d554e133ee5');\n",
              "        const dataTable =\n",
              "          await google.colab.kernel.invokeFunction('convertToInteractive',\n",
              "                                                    [key], {});\n",
              "        if (!dataTable) return;\n",
              "\n",
              "        const docLinkHtml = 'Like what you see? Visit the ' +\n",
              "          '<a target=\"_blank\" href=https://colab.research.google.com/notebooks/data_table.ipynb>data table notebook</a>'\n",
              "          + ' to learn more about interactive tables.';\n",
              "        element.innerHTML = '';\n",
              "        dataTable['output_type'] = 'display_data';\n",
              "        await google.colab.output.renderOutput(dataTable, element);\n",
              "        const docLink = document.createElement('div');\n",
              "        docLink.innerHTML = docLinkHtml;\n",
              "        element.appendChild(docLink);\n",
              "      }\n",
              "    </script>\n",
              "  </div>\n",
              "\n",
              "\n",
              "    </div>\n",
              "  </div>\n"
            ],
            "text/plain": [
              "             0       1       2     3       4\n",
              "itemid  461686  119736  213834  7943  312728"
            ]
          },
          "metadata": {},
          "output_type": "display_data"
        }
      ],
      "source": [
        "items_recommended = (\n",
        "    PopularItemRecommender(transaction_events, verb=True)\n",
        "        .recommend(N)\n",
        ")"
      ]
    },
    {
      "cell_type": "markdown",
      "metadata": {
        "id": "Myxkq2onPNX0"
      },
      "source": [
        "### Explanation"
      ]
    },
    {
      "cell_type": "code",
      "execution_count": 55,
      "metadata": {
        "colab": {
          "base_uri": "https://localhost:8080/",
          "height": 0
        },
        "id": "tndCsVD-1PWy",
        "outputId": "7737a1b4-30c4-4794-8c61-f052616b4825"
      },
      "outputs": [
        {
          "data": {
            "image/png": "[encoded data removed]",
            "text/plain": [
              "<Figure size 1000x500 with 2 Axes>"
            ]
          },
          "metadata": {},
          "output_type": "display_data"
        }
      ],
      "source": [
        "fig, axes = plt.subplots(1, 2, figsize=(10, 5))\n",
        "\n",
        "# 0\n",
        "ax = axes[0]\n",
        "df = transaction_events.groupby(by='itemid')['transactionid'].count()\n",
        "ax.hist(df, bins=40, edgecolor=\"white\", color=\"darkkhaki\")\n",
        "\n",
        "ax.set_title(\"Purchase histogram of all items (log scale)\")\n",
        "ax.set_xlabel(\"Number of purchase\")\n",
        "ax.set_ylabel(\"Frequency\")\n",
        "ax.set_yscale('log')\n",
        "\n",
        "# 1\n",
        "ax = axes[1]\n",
        "df = (transaction_events\n",
        "    .pipe(lambda df: df[df['itemid'].isin(items_recommended)])\n",
        "    .pipe(lambda df: df.groupby(by='itemid')['transactionid'].count())\n",
        "    .rename('purchase count')\n",
        "    .sort_values(ascending=False)\n",
        "    .reset_index()\n",
        ")\n",
        "\n",
        "ax.bar(df['itemid'].astype(str), df['purchase count'], color=\"purple\")\n",
        "\n",
        "ax.set_xlabel(\"Item ID\")\n",
        "ax.set_ylabel(\"Number of purchase\")\n",
        "ax.set_title(\"Recommended items\")\n",
        "\n",
        "plt.suptitle('Item popularity based on purchase count')\n",
        "plt.tight_layout()\n",
        "plt.show()"
      ]
    },
    {
      "cell_type": "markdown",
      "metadata": {
        "id": "4o14lJD-Pchf"
      },
      "source": [
        "## `MeanPopularItemRecommender`"
      ]
    },
    {
      "cell_type": "code",
      "execution_count": 56,
      "metadata": {
        "id": "YmFq07Nz11Lc"
      },
      "outputs": [],
      "source": [
        "class MeanPopularItemRecommender():\n",
        "    def __init__(self, transactions, verb=False):\n",
        "        self.transactions = transactions\n",
        "        self.verb = verb\n",
        "\n",
        "        if self.verb:\n",
        "            self.welcome()\n",
        "\n",
        "    def welcome(self):\n",
        "        print(\"Mean Popular Item Recommender\", \"\\n\")\n",
        "\n",
        "    def recommend(self, n):\n",
        "        items_recommended = (\n",
        "            self.transactions\n",
        "            .pipe(lambda df: df.groupby(by=['visitorid', 'itemid'])['transactionid'].count().rename(\"visitor purchase count\"))\n",
        "            .reset_index()\n",
        "            .pipe(lambda df: df.groupby(by='itemid')['visitor purchase count'].mean())\n",
        "            .sort_values(ascending=False)[:n]\n",
        "            .index\n",
        "            .tolist()\n",
        "        )\n",
        "\n",
        "        if self.verb:\n",
        "            print(\"Recommended items:\", \"\\n\")\n",
        "            display(pd.Series(items_recommended, name=\"itemid\").to_frame().T)\n",
        "\n",
        "        return items_recommended"
      ]
    },
    {
      "cell_type": "code",
      "execution_count": 57,
      "metadata": {
        "colab": {
          "base_uri": "https://localhost:8080/",
          "height": 0
        },
        "id": "iTx-rdNrCyIS",
        "outputId": "c53dda13-b32a-441d-97c3-968fef3ac112"
      },
      "outputs": [
        {
          "name": "stdout",
          "output_type": "stream",
          "text": [
            "Mean Popular Item Recommender \n",
            "\n",
            "Recommended items: \n",
            "\n"
          ]
        },
        {
          "data": {
            "application/vnd.google.colaboratory.intrinsic+json": {
              "summary": "{\n  \"name\": \")\",\n  \"rows\": 1,\n  \"fields\": [\n    {\n      \"column\": 0,\n      \"properties\": {\n        \"dtype\": \"number\",\n        \"std\": null,\n        \"min\": 396042,\n        \"max\": 396042,\n        \"num_unique_values\": 1,\n        \"samples\": [\n          396042\n        ],\n        \"semantic_type\": \"\",\n        \"description\": \"\"\n      }\n    },\n    {\n      \"column\": 1,\n      \"properties\": {\n        \"dtype\": \"number\",\n        \"std\": null,\n        \"min\": 224549,\n        \"max\": 224549,\n        \"num_unique_values\": 1,\n        \"samples\": [\n          224549\n        ],\n        \"semantic_type\": \"\",\n        \"description\": \"\"\n      }\n    },\n    {\n      \"column\": 2,\n      \"properties\": {\n        \"dtype\": \"number\",\n        \"std\": null,\n        \"min\": 147,\n        \"max\": 147,\n        \"num_unique_values\": 1,\n        \"samples\": [\n          147\n        ],\n        \"semantic_type\": \"\",\n        \"description\": \"\"\n      }\n    },\n    {\n      \"column\": 3,\n      \"properties\": {\n        \"dtype\": \"number\",\n        \"std\": null,\n        \"min\": 218612,\n        \"max\": 218612,\n        \"num_unique_values\": 1,\n        \"samples\": [\n          218612\n        ],\n        \"semantic_type\": \"\",\n        \"description\": \"\"\n      }\n    },\n    {\n      \"column\": 4,\n      \"properties\": {\n        \"dtype\": \"number\",\n        \"std\": null,\n        \"min\": 347641,\n        \"max\": 347641,\n        \"num_unique_values\": 1,\n        \"samples\": [\n          347641\n        ],\n        \"semantic_type\": \"\",\n        \"description\": \"\"\n      }\n    }\n  ]\n}",
              "type": "dataframe"
            },
            "text/html": [
              "\n",
              "  <div id=\"df-ca0b633c-78dc-4dff-b04c-56dd5ce26ce4\" class=\"colab-df-container\">\n",
              "    <div>\n",
              "<style scoped>\n",
              "    .dataframe tbody tr th:only-of-type {\n",
              "        vertical-align: middle;\n",
              "    }\n",
              "\n",
              "    .dataframe tbody tr th {\n",
              "        vertical-align: top;\n",
              "    }\n",
              "\n",
              "    .dataframe thead th {\n",
              "        text-align: right;\n",
              "    }\n",
              "</style>\n",
              "<table border=\"1\" class=\"dataframe\">\n",
              "  <thead>\n",
              "    <tr style=\"text-align: right;\">\n",
              "      <th></th>\n",
              "      <th>0</th>\n",
              "      <th>1</th>\n",
              "      <th>2</th>\n",
              "      <th>3</th>\n",
              "      <th>4</th>\n",
              "    </tr>\n",
              "  </thead>\n",
              "  <tbody>\n",
              "    <tr>\n",
              "      <th>itemid</th>\n",
              "      <td>396042</td>\n",
              "      <td>224549</td>\n",
              "      <td>147</td>\n",
              "      <td>218612</td>\n",
              "      <td>347641</td>\n",
              "    </tr>\n",
              "  </tbody>\n",
              "</table>\n",
              "</div>\n",
              "    <div class=\"colab-df-buttons\">\n",
              "\n",
              "  <div class=\"colab-df-container\">\n",
              "    <button class=\"colab-df-convert\" onclick=\"convertToInteractive('df-ca0b633c-78dc-4dff-b04c-56dd5ce26ce4')\"\n",
              "            title=\"Convert this dataframe to an interactive table.\"\n",
              "            style=\"display:none;\">\n",
              "\n",
              "  <svg xmlns=\"http://www.w3.org/2000/svg\" height=\"24px\" viewBox=\"0 -960 960 960\">\n",
              "    <path d=\"M120-120v-720h720v720H120Zm60-500h600v-160H180v160Zm220 220h160v-160H400v160Zm0 220h160v-160H400v160ZM180-400h160v-160H180v160Zm440 0h160v-160H620v160ZM180-180h160v-160H180v160Zm440 0h160v-160H620v160Z\"/>\n",
              "  </svg>\n",
              "    </button>\n",
              "\n",
              "  <style>\n",
              "    .colab-df-container {\n",
              "      display:flex;\n",
              "      gap: 12px;\n",
              "    }\n",
              "\n",
              "    .colab-df-convert {\n",
              "      background-color: #E8F0FE;\n",
              "      border: none;\n",
              "      border-radius: 50%;\n",
              "      cursor: pointer;\n",
              "      display: none;\n",
              "      fill: #1967D2;\n",
              "      height: 32px;\n",
              "      padding: 0 0 0 0;\n",
              "      width: 32px;\n",
              "    }\n",
              "\n",
              "    .colab-df-convert:hover {\n",
              "      background-color: #E2EBFA;\n",
              "      box-shadow: 0px 1px 2px rgba(60, 64, 67, 0.3), 0px 1px 3px 1px rgba(60, 64, 67, 0.15);\n",
              "      fill: #174EA6;\n",
              "    }\n",
              "\n",
              "    .colab-df-buttons div {\n",
              "      margin-bottom: 4px;\n",
              "    }\n",
              "\n",
              "    [theme=dark] .colab-df-convert {\n",
              "      background-color: #3B4455;\n",
              "      fill: #D2E3FC;\n",
              "    }\n",
              "\n",
              "    [theme=dark] .colab-df-convert:hover {\n",
              "      background-color: #434B5C;\n",
              "      box-shadow: 0px 1px 3px 1px rgba(0, 0, 0, 0.15);\n",
              "      filter: drop-shadow(0px 1px 2px rgba(0, 0, 0, 0.3));\n",
              "      fill: #FFFFFF;\n",
              "    }\n",
              "  </style>\n",
              "\n",
              "    <script>\n",
              "      const buttonEl =\n",
              "        document.querySelector('#df-ca0b633c-78dc-4dff-b04c-56dd5ce26ce4 button.colab-df-convert');\n",
              "      buttonEl.style.display =\n",
              "        google.colab.kernel.accessAllowed ? 'block' : 'none';\n",
              "\n",
              "      async function convertToInteractive(key) {\n",
              "        const element = document.querySelector('#df-ca0b633c-78dc-4dff-b04c-56dd5ce26ce4');\n",
              "        const dataTable =\n",
              "          await google.colab.kernel.invokeFunction('convertToInteractive',\n",
              "                                                    [key], {});\n",
              "        if (!dataTable) return;\n",
              "\n",
              "        const docLinkHtml = 'Like what you see? Visit the ' +\n",
              "          '<a target=\"_blank\" href=https://colab.research.google.com/notebooks/data_table.ipynb>data table notebook</a>'\n",
              "          + ' to learn more about interactive tables.';\n",
              "        element.innerHTML = '';\n",
              "        dataTable['output_type'] = 'display_data';\n",
              "        await google.colab.output.renderOutput(dataTable, element);\n",
              "        const docLink = document.createElement('div');\n",
              "        docLink.innerHTML = docLinkHtml;\n",
              "        element.appendChild(docLink);\n",
              "      }\n",
              "    </script>\n",
              "  </div>\n",
              "\n",
              "\n",
              "    </div>\n",
              "  </div>\n"
            ],
            "text/plain": [
              "             0       1    2       3       4\n",
              "itemid  396042  224549  147  218612  347641"
            ]
          },
          "metadata": {},
          "output_type": "display_data"
        }
      ],
      "source": [
        "items_recommended = (\n",
        "    MeanPopularItemRecommender(transaction_events, verb=True)\n",
        "        .recommend(N)\n",
        ")"
      ]
    },
    {
      "cell_type": "markdown",
      "metadata": {
        "id": "Ya2ht35gPrXs"
      },
      "source": [
        "### Explanation"
      ]
    },
    {
      "cell_type": "code",
      "execution_count": 58,
      "metadata": {
        "colab": {
          "base_uri": "https://localhost:8080/",
          "height": 0
        },
        "id": "IBPbG-DAHdfm",
        "outputId": "8be21c49-815e-4d02-fe10-f8d1f63fdf27"
      },
      "outputs": [
        {
          "data": {
            "image/png": "[encoded data removed]",
            "text/plain": [
              "<Figure size 1000x500 with 2 Axes>"
            ]
          },
          "metadata": {},
          "output_type": "display_data"
        }
      ],
      "source": [
        "fig, axes = plt.subplots(1, 2, figsize=(10, 5))\n",
        "\n",
        "# 0\n",
        "ax = axes[0]\n",
        "df = (transaction_events\n",
        "    .pipe(lambda df: df.groupby(by=['visitorid', 'itemid'])['transactionid'].count().rename(\"visitor purchase count\"))\n",
        "    .reset_index()\n",
        "    .pipe(lambda df: df.groupby(by='itemid')['visitor purchase count'].mean()))\n",
        "ax.hist(df, bins=40, edgecolor=\"white\", color=\"darkkhaki\")\n",
        "\n",
        "ax.set_title(\"Purchase histogram of all items (log scale)\")\n",
        "ax.set_xlabel(\"Average number of purchase\")\n",
        "ax.set_ylabel(\"Frequency\")\n",
        "ax.set_yscale('log')\n",
        "\n",
        "# 1\n",
        "ax = axes[1]\n",
        "df = (transaction_events\n",
        "    .pipe(lambda df: df[df['itemid'].isin(items_recommended)])\n",
        "    .pipe(lambda df: df.groupby(by=['visitorid', 'itemid'])['transactionid'].count().rename(\"visitor purchase count\"))\n",
        "    .reset_index()\n",
        "    .pipe(lambda df: df.groupby(by='itemid')['visitor purchase count'].mean())\n",
        "    .rename('mean purchase count')\n",
        "    .sort_values(ascending=False)\n",
        "    .reset_index()\n",
        ")\n",
        "\n",
        "ax.bar(df['itemid'].astype(str), df['mean purchase count'], color=\"purple\")\n",
        "\n",
        "ax.set_xlabel(\"Item ID\")\n",
        "ax.set_ylabel(\"Average number of purchase\")\n",
        "ax.set_title(\"Recommended items\")\n",
        "\n",
        "plt.suptitle('Item popularity based on mean purchase count')\n",
        "plt.tight_layout()\n",
        "plt.show()"
      ]
    },
    {
      "cell_type": "markdown",
      "metadata": {
        "id": "1u3cKX2WwQTr"
      },
      "source": [
        "## `UserBasedCollabFilterItemRecommender`"
      ]
    },
    {
      "cell_type": "code",
      "execution_count": null,
      "metadata": {
        "id": "voJi6j8NxXQS"
      },
      "outputs": [],
      "source": [
        "visitor_item_pivot = transaction_events.pivot_table(index='visitorid', columns='itemid', values='event', aggfunc='any').fillna(0).astype(int)\n",
        "visitor_item_pivot\n",
        "assert visitor_item_pivot.sum().sum() == transaction_events.groupby(by=['visitorid', 'itemid'])['itemid'].count().reset_index(drop=True).count()"
      ]
    },
    {
      "cell_type": "code",
      "execution_count": null,
      "metadata": {
        "id": "fgIW7IhQNt_3"
      },
      "outputs": [],
      "source": [
        "visitor_item_similarity = cosine_similarity(visitor_item_pivot)\n",
        "visitor_item_similarity"
      ]
    },
    {
      "cell_type": "code",
      "execution_count": null,
      "metadata": {
        "id": "CHwiPCF1Nyos"
      },
      "outputs": [],
      "source": [
        "(visitor_item_pivot.shape, visitor_item_similarity.shape)"
      ]
    },
    {
      "cell_type": "code",
      "execution_count": null,
      "metadata": {
        "id": "JRdB7SrySpEq"
      },
      "outputs": [],
      "source": [
        "visitor_loc = visitor_item_pivot.index.get_loc(designated_visitor_id)\n",
        "selected_visitor_pivot = visitor_item_pivot.iloc[visitor_loc, :]\n",
        "selected_visitor_similarity = visitor_item_similarity[visitor_loc, :]"
      ]
    },
    {
      "cell_type": "code",
      "execution_count": null,
      "metadata": {
        "id": "11JF7cK6S-qV"
      },
      "outputs": [],
      "source": [
        "class UserBasedCollabFilterItemRecommender():\n",
        "    def __init__(self, pivot, similarity):\n",
        "        self.pivot = pivot\n",
        "        self.similarity = similarity\n",
        "\n",
        "        self.fitted = False\n",
        "        self.recommended = False\n",
        "\n",
        "        self.welcome()\n",
        "\n",
        "    def welcome(self):\n",
        "        print(\"User-based Collaborative Filter Item Recommender\")\n",
        "\n",
        "    def fit(self, userid):\n",
        "        self.userid = userid\n",
        "        self.user_loc = self.pivot.index.get_loc(self.userid)\n",
        "        self.user_pivot = self.pivot.iloc[self.user_loc, :]\n",
        "        self.user_similarity = self.similarity[self.user_loc, :]\n",
        "\n",
        "        interacted_mask = self.user_pivot[self.user_pivot.gt(0)]\n",
        "        interacted_itemids = interacted_mask.index\n",
        "\n",
        "        print(\"Item # already interacted with:\\n\\n\", interacted_itemids.to_list(), \"\\n\\n\")\n",
        "        self.interacted_itemids = interacted_itemids\n",
        "        self.fitted = True\n",
        "\n",
        "    def recommend(self, k, n):\n",
        "        self.k = k\n",
        "        self.n = n\n",
        "\n",
        "        similar_user_locs = self.user_similarity.argpartition(-(k+1))[-(k+1):]\n",
        "\n",
        "        if np.isin(similar_user_locs, self.user_loc).any():\n",
        "            similar_user_locs = similar_user_locs[similar_user_locs != self.user_loc]\n",
        "\n",
        "        similar_user_locs = similar_user_locs[self.user_similarity[similar_user_locs] >= 0.1]\n",
        "        similar_userids = self.pivot.iloc[similar_user_locs].index\n",
        "\n",
        "        print(f\"K={self.k} most similar user #:\\n\\n\", similar_userids.to_list(), \"\\n\\n\")\n",
        "\n",
        "        assert np.invert(np.isin(self.user_loc, similar_user_locs))\n",
        "        #assert (len(similar_user_locs) > (k/2)) & (len(similar_user_locs) <= k)\n",
        "\n",
        "        # recommendation\n",
        "        items_recommended = (self.pivot.iloc[similar_user_locs]\n",
        "                                           .sum(axis=0)\n",
        "                                           .astype('int')\n",
        "                                           .rename('Transaction frequency')\n",
        "                                           .where(lambda x: x > 0)\n",
        "                                           .where(lambda x: np.invert(np.isin(x.index, self.interacted_itemids)))\n",
        "                                           .dropna()\n",
        "                                           .sort_values(ascending=False)[:self.n]\n",
        "                                           .astype('int')\n",
        "                            )\n",
        "        assert (~np.isin(self.interacted_itemids, items_recommended)).all()\n",
        "        assert len(items_recommended) <= self.n\n",
        "\n",
        "        self.recommended = True\n",
        "        self.similar_userids = similar_userids\n",
        "        self.items_recommended = items_recommended\n",
        "\n",
        "        print(\"Recommended items:\", \"\\n\")\n",
        "        display(pd.Series(items_recommended.index.tolist(), name=\"itemid\").to_frame().T)\n",
        "        return items_recommended\n",
        "\n",
        "    def get_fit_memory(self):\n",
        "        assert self.fitted, \"Model not fitted. Call .fit() first.\"\n",
        "        assert self.interacted_itemids is not None\n",
        "        return {\n",
        "            'userid': self.userid,\n",
        "            'interacted_itemids': self.interacted_itemids.to_list()\n",
        "        }\n",
        "\n",
        "    def get_recommend_memory(self):\n",
        "        assert self.recommended, \"Model has no recommendation memory. Call .recommend() first.\"\n",
        "        assert self.similar_userids is not None\n",
        "        assert self.items_recommended is not None\n",
        "        return {\n",
        "            'similar_userids': self.similar_userids.to_list(),\n",
        "            'items_recommended': self.items_recommended.index.to_list(),\n",
        "            'k': self.k,\n",
        "            'n': self.n\n",
        "        }"
      ]
    },
    {
      "cell_type": "code",
      "execution_count": null,
      "metadata": {
        "id": "8uD_wrMbTB7s"
      },
      "outputs": [],
      "source": [
        "model = UserBasedCollabFilterItemRecommender(visitor_item_pivot, visitor_item_similarity)\n",
        "model.fit(designated_visitor_id)\n",
        "recommendation = model.recommend(K, N)"
      ]
    },
    {
      "cell_type": "markdown",
      "metadata": {
        "id": "NjdOLSp_jUs0"
      },
      "source": [
        "### Explanation"
      ]
    },
    {
      "cell_type": "code",
      "execution_count": null,
      "metadata": {
        "id": "hjF1EouNw7Qp"
      },
      "outputs": [],
      "source": [
        "fit_memory = model.get_fit_memory()\n",
        "recommend_memory = model.get_recommend_memory()"
      ]
    },
    {
      "cell_type": "code",
      "execution_count": null,
      "metadata": {
        "id": "ljA_Nz9Ae9gA"
      },
      "outputs": [],
      "source": [
        "class UserBasedCFRVerifier():\n",
        "    def __init__(self, model):\n",
        "        self.model = model\n",
        "\n",
        "    def run(self, designated_visitor_id):\n",
        "        fm = self.model.get_fit_memory()\n",
        "        rm = self.model.get_recommend_memory()\n",
        "\n",
        "        # designater user\n",
        "        assert designated_visitor_id == fm['userid']\n",
        "        # interacted items\n",
        "        df = transaction_events[transaction_events['visitorid'] == designated_visitor_id]\n",
        "        assert (df['itemid'].nunique() == len(fm['interacted_itemids']))\n",
        "        # similar users\n",
        "        assert len(rm['similar_userids']) <= rm['k']\n",
        "        assert np.invert(np.isin(designated_visitor_id, rm['similar_userids']))\n",
        "        # recommended items\n",
        "        assert np.invert(np.isin(fm['interacted_itemids'], rm['items_recommended'])).all()\n",
        "        assert len(rm['items_recommended']) <= rm['n']"
      ]
    },
    {
      "cell_type": "code",
      "execution_count": null,
      "metadata": {
        "id": "j4TeUdMYjFn4"
      },
      "outputs": [],
      "source": [
        "UserBasedCFRVerifier(model).run(designated_visitor_id)"
      ]
    },
    {
      "cell_type": "code",
      "execution_count": null,
      "metadata": {
        "id": "IdfiyLvMsl15"
      },
      "outputs": [],
      "source": [
        "# designated user\n",
        "display((designated_visitor_id, visitor_item_pivot.index.get_loc(designated_visitor_id)))"
      ]
    },
    {
      "cell_type": "code",
      "execution_count": null,
      "metadata": {
        "id": "cR67v5IcuaXg"
      },
      "outputs": [],
      "source": [
        "# interacted items\n",
        "print(\"Interacted itemids (acc. to model): \", fit_memory['interacted_itemids'])\n",
        "print(\"Transaction records (history):\")\n",
        "display(transaction_events[condDesignatedVisitor])"
      ]
    },
    {
      "cell_type": "code",
      "execution_count": null,
      "metadata": {
        "id": "8aJ5g-NQw0yX"
      },
      "outputs": [],
      "source": [
        "# similar users\n",
        "print(f\"{recommend_memory['k']} similar userids (acc. to model): \", recommend_memory['similar_userids'])\n",
        "\n",
        "# recommended items\n",
        "print(f\"{recommend_memory['n']} recommended items (acc. to model): \", recommend_memory['items_recommended'])"
      ]
    },
    {
      "cell_type": "code",
      "execution_count": null,
      "metadata": {
        "id": "OFJ6S4k4eiGZ"
      },
      "outputs": [],
      "source": [
        "(transaction_events[transaction_events['visitorid'].isin(recommend_memory['similar_userids'])]\n",
        "    .groupby(by=['visitorid', 'itemid'])[['transactionid']]\n",
        "    .count())"
      ]
    },
    {
      "cell_type": "code",
      "execution_count": null,
      "metadata": {
        "id": "KVjPWvSB355U"
      },
      "outputs": [],
      "source": [
        "# similarity of selected users\n",
        "df = visitor_item_similarity[\n",
        "    get_idx([designated_visitor_id], visitor_item_pivot),\n",
        "    get_idx(recommend_memory['similar_userids'], visitor_item_pivot)\n",
        "]\n",
        "\n",
        "display(len(df))\n",
        "display(df)"
      ]
    },
    {
      "cell_type": "code",
      "execution_count": null,
      "metadata": {
        "id": "ckEE5S7ea83l"
      },
      "outputs": [],
      "source": [
        "df = visitor_item_pivot.iloc[get_idx(recommend_memory['similar_userids'], visitor_item_pivot)]\n",
        "\n",
        "df[df > 0].stack().index.get_level_values(1).value_counts()"
      ]
    }
  ],
  "metadata": {
    "colab": {
      "collapsed_sections": [
        "majUCbpeOMcf",
        "Myxkq2onPNX0",
        "4o14lJD-Pchf",
        "Ya2ht35gPrXs"
      ],
      "provenance": [],
      "toc_visible": true
    },
    "kernelspec": {
      "display_name": "Python 3",
      "name": "python3"
    },
    "language_info": {
      "name": "python"
    }
  },
  "nbformat": 4,
  "nbformat_minor": 0
}
